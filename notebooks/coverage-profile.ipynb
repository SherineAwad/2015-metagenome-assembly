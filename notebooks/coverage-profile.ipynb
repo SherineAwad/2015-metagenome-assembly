{
 "cells": [
  {
   "cell_type": "code",
   "execution_count": null,
   "metadata": {
    "collapsed": false
   },
   "outputs": [],
   "source": [
    "#%pylab inline"
   ]
  },
  {
   "cell_type": "code",
   "execution_count": 1,
   "metadata": {
    "collapsed": true,
    "scrolled": true
   },
   "outputs": [],
   "source": [
    "import matplotlib\n",
    "import numpy as np\n",
    "import matplotlib.pyplot as plt\n",
    "import matplotlib.lines as mlines\n",
    "from matplotlib.pyplot import *\n",
    "from __future__ import print_function\n",
    "from collections import defaultdict"
   ]
  },
  {
   "cell_type": "code",
   "execution_count": 9,
   "metadata": {
    "collapsed": false,
    "scrolled": true
   },
   "outputs": [
    {
     "name": "stdout",
     "output_type": "stream",
     "text": [
      "done\n"
     ]
    }
   ],
   "source": [
    "refsize=205603715\n",
    "cov={}\n",
    "count={}\n",
    "cov=[0]*200000\n",
    "count=[0]*200000\n",
    "i =0 \n",
    "for line in open(\"../SRR606249.qc.coverage\"):\n",
    "            #if i ==0: \n",
    "               #i+=1\n",
    "               #continue\n",
    "            x = line.rstrip().split(' ')\n",
    "            cov[i]=float(x[0])\n",
    "            count[i]=float(x[1]) /refsize *100\n",
    "            i +=1\n",
    "            if i >300:\n",
    "                    break\n",
    "print ('done')"
   ]
  },
  {
   "cell_type": "code",
   "execution_count": 10,
   "metadata": {
    "collapsed": false
   },
   "outputs": [
    {
     "name": "stdout",
     "output_type": "stream",
     "text": [
      "done\n"
     ]
    }
   ],
   "source": [
    "plt.plot(cov, count,color='g', linestyle='solid', linewidth=4, label ='Coverage Profile')\n",
    "plt.title('Coverage profile for the reference genome')\n",
    "plt.xlabel('Coverage')\n",
    "plt.ylabel('Percentages of bases with that coverage')\n",
    "legend()\n",
    "plt.show()\n",
    "print('done')"
   ]
  },
  {
   "cell_type": "code",
   "execution_count": null,
   "metadata": {
    "collapsed": false
   },
   "outputs": [],
   "source": [
    "#IGNORE THIS \n",
    "mu=np.mean(count)\n",
    "sigma=np.std(count)\n",
    "n, bins, patches = plt.hist(cov, 50, normed=1,\n",
    "                            histtype='step', cumulative=True)\n",
    "y = mlab.normpdf(bins, mu, sigma).cumsum()\n",
    "#y /= y[-1]\n",
    "bins\n"
   ]
  },
  {
   "cell_type": "code",
   "execution_count": null,
   "metadata": {
    "collapsed": false
   },
   "outputs": [],
   "source": [
    "#IGNORE THIS \n",
    "\n",
    "#cov_prof=plt.plot(bins, y, color='b', linestyle='solid', linewidth=4, label ='Coverage Profile')\n",
    "#plt.hist(x, bins=bins, normed=1, histtype='step', cumulative=-1)\n",
    "\n",
    "cov_prof= plt.plot(cov,count,color='g', linestyle='solid', linewidth=4, label ='Coverage Profile')\n",
    "\n",
    "plt.legend(cov_prof, \"Coverage Prof\", 'best')\n",
    "plt.axis(xmax=50.0)\n",
    "plt.ylim(0, 1.05)\n",
    "\n",
    "plt.title('Coverage profile for the reference genome')\n",
    "plt.xlabel('Coverage')\n",
    "plt.ylabel('Percentages of bases with that coverage')\n",
    "legend()\n",
    "plt.show()\n",
    "print('done')"
   ]
  },
  {
   "cell_type": "markdown",
   "metadata": {
    "collapsed": true,
    "scrolled": true
   },
   "source": [
    "#"
   ]
  }
 ],
 "metadata": {
  "kernelspec": {
   "display_name": "Python 2",
   "language": "python",
   "name": "python2"
  },
  "language_info": {
   "codemirror_mode": {
    "name": "ipython",
    "version": 2
   },
   "file_extension": ".py",
   "mimetype": "text/x-python",
   "name": "python",
   "nbconvert_exporter": "python",
   "pygments_lexer": "ipython2",
   "version": "2.7.10"
  }
 },
 "nbformat": 4,
 "nbformat_minor": 0
}
