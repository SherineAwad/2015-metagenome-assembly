{
 "cells": [
  {
   "cell_type": "code",
   "execution_count": 5,
   "metadata": {
    "collapsed": false
   },
   "outputs": [],
   "source": [
    "#%pylab inline"
   ]
  },
  {
   "cell_type": "code",
   "execution_count": 6,
   "metadata": {
    "collapsed": true,
    "scrolled": true
   },
   "outputs": [],
   "source": [
    "import matplotlib\n",
    "import numpy as np\n",
    "import matplotlib.pyplot as plt\n",
    "import matplotlib.lines as mlines\n",
    "from matplotlib.pyplot import *\n",
    "from __future__ import print_function\n",
    "from collections import defaultdict"
   ]
  },
  {
   "cell_type": "code",
   "execution_count": 7,
   "metadata": {
    "collapsed": false,
    "scrolled": true
   },
   "outputs": [
    {
     "name": "stdout",
     "output_type": "stream",
     "text": [
      "5.34146817337\n",
      "0.387787419828\n",
      "0.520376486285\n",
      "0.679004034716\n",
      "0.845368810094\n",
      "1.00393849662\n",
      "1.14932213357\n",
      "1.27551301752\n",
      "1.37553169966\n",
      "104.929334993\n",
      "done\n"
     ]
    }
   ],
   "source": [
    "refsize=205603715\n",
    "cov={}\n",
    "count={}\n",
    "cov=[0]*2000000\n",
    "count=[0]*2000000\n",
    "count0 =0\n",
    "i =0 \n",
    "for line in open(\"../SRR606249.qc.coverage\"):\n",
    "            x = line.rstrip().split(' ')\n",
    "            cov[i]=float(x[0])\n",
    "            count[i]=float(x[1])  \n",
    "            i +=1\n",
    "            if i >300:\n",
    "                    break\n",
    " \n",
    "summ=count[0]/refsize*100\n",
    "for i in range(1,len(count) ): \n",
    "    count[i] +=count[i-1] \n",
    "    count[i] =count[i] /refsize *100\n",
    "    summ+=count[i]\n",
    "    if i<10: \n",
    "                print(count[i])\n",
    "print(summ)\n",
    "count[0] =0 \n",
    "print ('done')\n"
   ]
  },
  {
   "cell_type": "code",
   "execution_count": 8,
   "metadata": {
    "collapsed": false
   },
   "outputs": [
    {
     "name": "stdout",
     "output_type": "stream",
     "text": [
      "done\n"
     ]
    }
   ],
   "source": [
    "plt.plot(cov, count,color='#4863A0', linestyle='solid', linewidth=4, label ='Mapping Coverage')\n",
    "plt.title('Coverage profile for the reference genome')\n",
    "plt.xlabel('Coverage')\n",
    "plt.ylabel('Percentages of bases with that coverage')\n",
    "plt.axis(xmax=100.0)\n",
    "plt.ylim(0, 10)\n",
    "legend()\n",
    "plt.show()\n",
    "print('done')"
   ]
  }
 ],
 "metadata": {
  "kernelspec": {
   "display_name": "Python 2",
   "language": "python",
   "name": "python2"
  },
  "language_info": {
   "codemirror_mode": {
    "name": "ipython",
    "version": 2
   },
   "file_extension": ".py",
   "mimetype": "text/x-python",
   "name": "python",
   "nbconvert_exporter": "python",
   "pygments_lexer": "ipython2",
   "version": "2.7.10"
  }
 },
 "nbformat": 4,
 "nbformat_minor": 0
}
