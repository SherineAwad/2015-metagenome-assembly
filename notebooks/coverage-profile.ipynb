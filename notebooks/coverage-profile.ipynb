{
 "cells": [
  {
   "cell_type": "code",
   "execution_count": 1,
   "metadata": {
    "collapsed": false
   },
   "outputs": [
    {
     "name": "stdout",
     "output_type": "stream",
     "text": [
      "Populating the interactive namespace from numpy and matplotlib\n"
     ]
    }
   ],
   "source": [
    "#%pylab inline"
   ]
  },
  {
   "cell_type": "code",
   "execution_count": 1,
   "metadata": {
    "collapsed": true,
    "scrolled": true
   },
   "outputs": [],
   "source": [
    "import matplotlib\n",
    "import numpy as np\n",
    "import matplotlib.pyplot as plt\n",
    "import matplotlib.lines as mlines\n",
    "from matplotlib.pyplot import *\n",
    "from __future__ import print_function\n",
    "from collections import defaultdict"
   ]
  },
  {
   "cell_type": "code",
   "execution_count": 2,
   "metadata": {
    "collapsed": false,
    "scrolled": true
   },
   "outputs": [
    {
     "name": "stdout",
     "output_type": "stream",
     "text": [
      "done\n"
     ]
    }
   ],
   "source": [
    "refsize=205603715\n",
    "cov={}\n",
    "count={}\n",
    "cov=[0]*200000\n",
    "count=[0]*200000\n",
    "i =0 \n",
    "for line in open(\"../mircea.reads.coverage\"):\n",
    "           # if i ==0: \n",
    "              # i+=1\n",
    "               #continue\n",
    "            x = line.rstrip().split(' ')\n",
    "            cov[i]=float(x[0])\n",
    "            count[i]=float(x[1])/refsize\n",
    "            i +=1\n",
    "            if i >2000:\n",
    "                    break\n",
    "print ('done')"
   ]
  },
  {
   "cell_type": "code",
   "execution_count": 3,
   "metadata": {
    "collapsed": false
   },
   "outputs": [
    {
     "data": {
      "text/plain": [
       "array([    0.,    40.,    80.,   120.,   160.,   200.,   240.,   280.,\n",
       "         320.,   360.,   400.,   440.,   480.,   520.,   560.,   600.,\n",
       "         640.,   680.,   720.,   760.,   800.,   840.,   880.,   920.,\n",
       "         960.,  1000.,  1040.,  1080.,  1120.,  1160.,  1200.,  1240.,\n",
       "        1280.,  1320.,  1360.,  1400.,  1440.,  1480.,  1520.,  1560.,\n",
       "        1600.,  1640.,  1680.,  1720.,  1760.,  1800.,  1840.,  1880.,\n",
       "        1920.,  1960.,  2000.])"
      ]
     },
     "execution_count": 3,
     "metadata": {},
     "output_type": "execute_result"
    }
   ],
   "source": [
    "mu=np.mean(cov)\n",
    "sigma=np.std(cov)\n",
    "n, bins, patches = plt.hist(cov, 50, normed=1,\n",
    "                            histtype='step', cumulative=True)\n",
    "y = mlab.normpdf(bins, mu, sigma).cumsum()\n",
    "#y /= y[-1]\n",
    "bins\n"
   ]
  },
  {
   "cell_type": "code",
   "execution_count": 5,
   "metadata": {
    "collapsed": false
   },
   "outputs": [
    {
     "name": "stderr",
     "output_type": "stream",
     "text": [
      "/Users/sherine/anaconda/lib/python2.7/site-packages/matplotlib/cbook.py:137: MatplotlibDeprecationWarning: The \"loc\" positional argument to legend is deprecated. Please use the \"loc\" keyword instead.\n",
      "  warnings.warn(message, mplDeprecation, stacklevel=1)\n"
     ]
    },
    {
     "data": {
      "image/png": "[encoded data removed]",
      "text/plain": [
       "<matplotlib.figure.Figure at 0x10636f810>"
      ]
     },
     "metadata": {},
     "output_type": "display_data"
    },
    {
     "name": "stdout",
     "output_type": "stream",
     "text": [
      "done\n"
     ]
    }
   ],
   "source": [
    "#cov_prof=plt.plot(bins, y, color='b', linestyle='solid', linewidth=4, label ='Coverage Profile')\n",
    "#plt.hist(x, bins=bins, normed=1, histtype='step', cumulative=-1)\n",
    "\n",
    "\n",
    "\n",
    "cov_prof= plt.plot(cov,count,color='b', linestyle='solid', linewidth=4, label ='Coverage Profile')\n",
    "\n",
    "plt.legend(cov_prof, \"Coverage Prof\", 'best')\n",
    "plt.axis(xmax=50.0)\n",
    "plt.ylim(0, 1.05)\n",
    "\n",
    "plt.title('Coverage profile for the reference genome')\n",
    "plt.xlabel('Coverage')\n",
    "plt.ylabel('Percentages of bases with that coverage')\n",
    "legend()\n",
    "plt.show()\n",
    "print('done')"
   ]
  },
  {
   "cell_type": "markdown",
   "metadata": {
    "collapsed": true,
    "scrolled": true
   },
   "source": [
    "#"
   ]
  },
  {
   "cell_type": "markdown",
   "metadata": {},
   "source": [
    "# Coverage of Common Uncovered Bases"
   ]
  },
  {
   "cell_type": "code",
   "execution_count": null,
   "metadata": {
    "collapsed": true
   },
   "outputs": [],
   "source": [
    "#Quality Common Uncovered bases' Coverage"
   ]
  },
  {
   "cell_type": "code",
   "execution_count": 51,
   "metadata": {
    "collapsed": false
   },
   "outputs": [
    {
     "ename": "IndexError",
     "evalue": "list index out of range",
     "output_type": "error",
     "traceback": [
      "\u001b[0;31m---------------------------------------------------------------------------\u001b[0m",
      "\u001b[0;31mIndexError\u001b[0m                                Traceback (most recent call last)",
      "\u001b[0;32m<ipython-input-51-43a689d8543d>\u001b[0m in \u001b[0;36m<module>\u001b[0;34m()\u001b[0m\n\u001b[1;32m     14\u001b[0m \u001b[0mqcct\u001b[0m \u001b[0;34m=\u001b[0m \u001b[0mqcuncov\u001b[0m\u001b[0;34m\u001b[0m\u001b[0m\n\u001b[1;32m     15\u001b[0m \u001b[0;32mfor\u001b[0m \u001b[0mit\u001b[0m \u001b[0;32min\u001b[0m \u001b[0mqcct\u001b[0m\u001b[0;34m:\u001b[0m\u001b[0;34m\u001b[0m\u001b[0m\n\u001b[0;32m---> 16\u001b[0;31m       \u001b[0mqcct\u001b[0m\u001b[0;34m[\u001b[0m\u001b[0mit\u001b[0m\u001b[0;34m]\u001b[0m \u001b[0;34m=\u001b[0m \u001b[0mqcct\u001b[0m\u001b[0;34m[\u001b[0m\u001b[0mit\u001b[0m\u001b[0;34m]\u001b[0m\u001b[0;34m/\u001b[0m\u001b[0mcount\u001b[0m\u001b[0;34m\u001b[0m\u001b[0m\n\u001b[0m\u001b[1;32m     17\u001b[0m \u001b[0;32mprint\u001b[0m \u001b[0;34m(\u001b[0m\u001b[0;34m'done'\u001b[0m\u001b[0;34m)\u001b[0m\u001b[0;34m\u001b[0m\u001b[0m\n",
      "\u001b[0;31mIndexError\u001b[0m: list index out of range"
     ]
    }
   ],
   "source": [
    "refsize=205603715\n",
    "qcuncov={}\n",
    "qcct={}\n",
    "qcuncov=[0]*121\n",
    "qcct=[0]*121\n",
    "count = 0\n",
    "i =0 \n",
    "for line in open('qc.common.uncovered.coverage'):\n",
    "            x = line.rstrip().split(' ')\n",
    "            qcuncov[i]=int(x[0])\n",
    "            #qcct[i]=  float(x[1]) /refsize\n",
    "            count+=qcuncov[i]\n",
    "            i +=1\n",
    "\n",
    "print ('done')"
   ]
  },
  {
   "cell_type": "code",
   "execution_count": 36,
   "metadata": {
    "collapsed": false
   },
   "outputs": [
    {
     "data": {
      "text/plain": [
       "array([   0.        ,    8.06666667,   16.13333333,   24.2       ,\n",
       "         32.26666667,   40.33333333,   48.4       ,   56.46666667,\n",
       "         64.53333333,   72.6       ,   80.66666667,   88.73333333,\n",
       "         96.8       ,  104.86666667,  112.93333333,  121.        ])"
      ]
     },
     "execution_count": 36,
     "metadata": {},
     "output_type": "execute_result"
    }
   ],
   "source": [
    "mu=np.mean(qcuncov)\n",
    "sigma=np.std(qcuncov)\n",
    "n, bins, patches = plt.hist(qcuncov, normed=1,bins=15,\n",
    "                            histtype='step', cumulative=False)\n",
    "y = mlab.normpdf(bins, mu, sigma).cumsum()\n",
    "bins"
   ]
  },
  {
   "cell_type": "code",
   "execution_count": 38,
   "metadata": {
    "collapsed": false
   },
   "outputs": [
    {
     "name": "stdout",
     "output_type": "stream",
     "text": [
      "done\n"
     ]
    }
   ],
   "source": [
    "qcuncov_prof= plt.plot(qcuncov,qcct,color='g', linestyle='solid', linewidth=4, label ='Coverage Profile')\n",
    "\n",
    "plt.legend(qcuncov_prof, \"Coverage Prof\", 'best')\n",
    "plt.axis(xmax=125)\n",
    "plt.ylim(0,0.001)\n",
    "\n",
    "plt.title('Coverage profile for common uncovered bases using QC ')\n",
    "plt.xlabel('Coverage of Common Uncovered Bases')\n",
    "plt.ylabel('Percentage %')\n",
    "legend()\n",
    "plt.show()\n",
    "print('done')"
   ]
  },
  {
   "cell_type": "code",
   "execution_count": null,
   "metadata": {
    "collapsed": true
   },
   "outputs": [],
   "source": [
    "#Diginorm common uncovered  bases' coverage"
   ]
  },
  {
   "cell_type": "code",
   "execution_count": 8,
   "metadata": {
    "collapsed": false
   },
   "outputs": [
    {
     "name": "stdout",
     "output_type": "stream",
     "text": [
      "done\n"
     ]
    }
   ],
   "source": [
    "refsize=205603715\n",
    "digiuncov={}\n",
    "digict={}\n",
    "digiuncov=[0]*121\n",
    "digict=[0]*121\n",
    "i =0 \n",
    "for line in open('diginorm.common.uncovered.coverage'):\n",
    "            x = line.rstrip().split(' ')\n",
    "            digiuncov[i]=int(x[0])\n",
    "            digict[i]=  float(x[1])/refsize\n",
    "            i +=1\n",
    "print ('done')\n"
   ]
  },
  {
   "cell_type": "code",
   "execution_count": 4,
   "metadata": {
    "collapsed": false
   },
   "outputs": [
    {
     "data": {
      "text/plain": [
       "array([   0.        ,    8.06666667,   16.13333333,   24.2       ,\n",
       "         32.26666667,   40.33333333,   48.4       ,   56.46666667,\n",
       "         64.53333333,   72.6       ,   80.66666667,   88.73333333,\n",
       "         96.8       ,  104.86666667,  112.93333333,  121.        ])"
      ]
     },
     "execution_count": 4,
     "metadata": {},
     "output_type": "execute_result"
    }
   ],
   "source": [
    "mu=np.mean(digiuncov)\n",
    "sigma=np.std(digiuncov)\n",
    "n, bins, patches = plt.hist(digiuncov, normed=1,bins=15,\n",
    "                            histtype='step', cumulative=False)\n",
    "y = mlab.normpdf(bins, mu, sigma).cumsum()\n",
    "bins"
   ]
  },
  {
   "cell_type": "code",
   "execution_count": 9,
   "metadata": {
    "collapsed": false
   },
   "outputs": [
    {
     "name": "stdout",
     "output_type": "stream",
     "text": [
      "done\n"
     ]
    }
   ],
   "source": [
    "digiuncov_prof= plt.plot(digiuncov,digict,color='g', linestyle='solid', linewidth=4, label ='Coverage Profile')\n",
    "\n",
    "plt.legend(digiuncov_prof, \"Coverage Prof\", 'best')\n",
    "plt.axis(xmax=125)\n",
    "plt.ylim(0,0.001)\n",
    "\n",
    "plt.title('Coverage profile for common uncovered bases using Diginorm ')\n",
    "plt.xlabel('Coverage of Common Uncovered Bases')\n",
    "plt.ylabel('Percentages of bases with that coverage')\n",
    "legend()\n",
    "plt.show()\n",
    "print('done')"
   ]
  },
  {
   "cell_type": "code",
   "execution_count": null,
   "metadata": {
    "collapsed": true
   },
   "outputs": [],
   "source": [
    "#Partition common uncovered bases' coverage"
   ]
  },
  {
   "cell_type": "code",
   "execution_count": 10,
   "metadata": {
    "collapsed": false
   },
   "outputs": [
    {
     "name": "stdout",
     "output_type": "stream",
     "text": [
      "done\n"
     ]
    }
   ],
   "source": [
    "refsize=205603715\n",
    "partuncov={}\n",
    "partct={}\n",
    "partuncov=[0]*121\n",
    "partct=[0]*121\n",
    "i =0 \n",
    "for line in open('partition.common.uncovered.coverage'):\n",
    "            x = line.rstrip().split(' ')\n",
    "            partuncov[i]=int(x[0])\n",
    "            partct[i]=  float(x[1])/refsize\n",
    "            i +=1\n",
    "print ('done')"
   ]
  },
  {
   "cell_type": "code",
   "execution_count": 11,
   "metadata": {
    "collapsed": false
   },
   "outputs": [
    {
     "data": {
      "text/plain": [
       "array([   0.        ,    8.06666667,   16.13333333,   24.2       ,\n",
       "         32.26666667,   40.33333333,   48.4       ,   56.46666667,\n",
       "         64.53333333,   72.6       ,   80.66666667,   88.73333333,\n",
       "         96.8       ,  104.86666667,  112.93333333,  121.        ])"
      ]
     },
     "execution_count": 11,
     "metadata": {},
     "output_type": "execute_result"
    }
   ],
   "source": [
    "mu=np.mean(partuncov)\n",
    "sigma=np.std(partuncov)\n",
    "n, bins, patches = plt.hist(partuncov, normed=1,bins=15,\n",
    "                            histtype='step', cumulative=False)\n",
    "y = mlab.normpdf(bins, mu, sigma).cumsum()\n",
    "bins"
   ]
  },
  {
   "cell_type": "code",
   "execution_count": 13,
   "metadata": {
    "collapsed": false
   },
   "outputs": [
    {
     "name": "stdout",
     "output_type": "stream",
     "text": [
      "done\n"
     ]
    }
   ],
   "source": [
    "partuncov_prof= plt.plot(partuncov,partct,color='g', linestyle='solid', linewidth=4, label ='Coverage Profile')\n",
    "\n",
    "plt.legend(partuncov_prof, \"Coverage Prof\", 'best')\n",
    "plt.axis(xmax=125)\n",
    "plt.ylim(0,0.001)\n",
    "\n",
    "plt.title('Coverage profile for common uncovered bases using partitioning ')\n",
    "plt.xlabel('Coverage of Common Uncovered Bases')\n",
    "plt.ylabel('Percentages of bases with that coverage')\n",
    "legend()\n",
    "plt.show()\n",
    "print('done')"
   ]
  },
  {
   "cell_type": "code",
   "execution_count": null,
   "metadata": {
    "collapsed": true
   },
   "outputs": [],
   "source": []
  }
 ],
 "metadata": {
  "kernelspec": {
   "display_name": "Python 2",
   "language": "python",
   "name": "python2"
  },
  "language_info": {
   "codemirror_mode": {
    "name": "ipython",
    "version": 2
   },
   "file_extension": ".py",
   "mimetype": "text/x-python",
   "name": "python",
   "nbconvert_exporter": "python",
   "pygments_lexer": "ipython2",
   "version": "2.7.10"
  }
 },
 "nbformat": 4,
 "nbformat_minor": 0
}
