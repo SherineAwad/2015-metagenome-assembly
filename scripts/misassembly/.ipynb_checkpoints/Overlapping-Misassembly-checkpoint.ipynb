{
 "cells": [
  {
   "cell_type": "code",
   "execution_count": 14,
   "metadata": {
    "collapsed": false
   },
   "outputs": [],
   "source": [
    "from __future__ import print_function\n",
    "\n",
    "from intervaltree import IntervalTree, Interval\n",
    "from collections import defaultdict\n",
    "import sys\n",
    "import pandas as pd\n",
    "import numpy as np\n",
    "import matplotlib.pyplot as plt\n",
    "pd.__version__\n",
    "%matplotlib inline\n"
   ]
  },
  {
   "cell_type": "code",
   "execution_count": 2,
   "metadata": {
    "collapsed": true
   },
   "outputs": [],
   "source": [
    "def overlap_intervals(self, other):\n",
    "    splits = (self | other)\n",
    "    splits.split_overlaps()\n",
    "    self_int_other = IntervalTree(filter(lambda r: self.overlaps(r) and other.overlaps(r), splits))\n",
    "    return self_int_other\n",
    "\n",
    "\n",
    "def overlap_all(trees):\n",
    "    if len(trees) in (0, 1):\n",
    "        return None\n",
    "\n",
    "    overlap = overlap_intervals(trees[0], trees[1])\n",
    "    for t in trees[2:]:\n",
    "        overlap = overlap_intervals(overlap, t)\n",
    "    overlap.merge_overlaps(data_reducer)\n",
    "\n",
    "    return overlap\n",
    "\n",
    "\n",
    "def data_reducer(current_data, new_data):\n",
    "    return current_data | new_data"
   ]
  },
  {
   "cell_type": "code",
   "execution_count": 3,
   "metadata": {
    "collapsed": false
   },
   "outputs": [],
   "source": [
    "gtrees = defaultdict(dict)\n",
    "all_genes = set()\n",
    "files = defaultdict(lambda: defaultdict(list))"
   ]
  },
  {
   "cell_type": "code",
   "execution_count": 4,
   "metadata": {
    "collapsed": false
   },
   "outputs": [
    {
     "name": "stdout",
     "output_type": "stream",
     "text": [
      "['\\t\\t\\tReal', 'Alignment', '2:', '1420217', '1450344', '|', '55253', '25094', '|', '30128', '30160', '|', '99.87', '|', 'Herpetosiphon_aurantiacus_ATCC_23779', 'assembly.17473_NODE_33451_length_76094_cov_12.793177']\n",
      "['\\t\\t\\tReal', 'Alignment', '9:', '80092', '93430', '|', '223167', '209826', '|', '13339', '13342', '|', '97.99', '|', 'Desulfovibrio_vulgaris_DP4', 'assembly.57_scaffold_56']\n",
      "['\\t\\t\\tReal', 'Alignment', '2:', '2037591', '2044710', '|', '7420', '14539', '|', '7120', '7120', '|', '100.0', '|', 'Bordetella_bronchiseptica_strain_RB50', 'assembly.2663_NODE_2663_length_14539_cov_7.92281_ID_5625']\n",
      "['\\t\\t\\tReal', 'Alignment', '2:', '1120708', '1121200', '|', '220', '712', '|', '493', '493', '|', '99.19', '|', 'Shewanella_baltica_OS185', 'assembly.25038_contig_91_11348_length_712_multi_3_in_0_out_0']\n"
     ]
    }
   ],
   "source": [
    "for f in ('vqc', 'iqc', 'sqc', 'mqc'):\n",
    "    for line in open(f): \n",
    "            x = line.rstrip().split(' ')\n",
    "            if x[2] != 'Extensive':  \n",
    "                files[f][x[14]].append((int(x[3]), int(x[4])))\n",
    "    print (x)"
   ]
  },
  {
   "cell_type": "code",
   "execution_count": 5,
   "metadata": {
    "collapsed": false
   },
   "outputs": [
    {
     "name": "stdout",
     "output_type": "stream",
     "text": [
      "Wolinella_succinogenes_DSM_1740\n",
      "Thermoanaerobacter_pseudethanolicus_ATCC_33223\n",
      "Wolinella_succinogenes_DSM_1740\n",
      "Wolinella_succinogenes_DSM_1740\n"
     ]
    }
   ],
   "source": [
    "gtrees = defaultdict(dict)\n",
    "all_genes = set()\n",
    "for f in files:\n",
    "    for g in files[f]:\n",
    "        all_genes.add(g)\n",
    "        gtrees[g][f] = IntervalTree(Interval(iv[0], iv[1], set([f]))\n",
    "                                    for iv in files[f][g])\n",
    "        \n",
    "    print (g)"
   ]
  },
  {
   "cell_type": "code",
   "execution_count": 6,
   "metadata": {
    "collapsed": false,
    "scrolled": false
   },
   "outputs": [
    {
     "name": "stdout",
     "output_type": "stream",
     "text": [
      "@ Clostridium_thermocellum_ATCC_27405: \n",
      " IntervalTree([Interval(2003160, 2006942, set(['sqc', 'vqc', 'mqc', 'iqc'])), Interval(2008390, 2010929, set(['sqc', 'vqc', 'mqc', 'iqc']))])\n",
      "@ Caldisaccharolyticus_DSM_8903: \n",
      " IntervalTree([Interval(520488, 525786, set(['sqc', 'vqc', 'mqc', 'iqc'])), Interval(526902, 528526, set(['sqc', 'vqc', 'mqc', 'iqc'])), Interval(717724, 719346, set(['sqc', 'vqc', 'mqc', 'iqc'])), Interval(721619, 726367, set(['sqc', 'vqc', 'mqc', 'iqc'])), Interval(1607495, 1608229, set(['sqc', 'vqc', 'mqc', 'iqc'])), Interval(1609488, 1609657, set(['sqc', 'vqc', 'mqc', 'iqc']))])\n",
      "@ Geobacter_sulfurreducens_PCA: \n",
      " IntervalTree([Interval(2015315, 2018208, set(['sqc', 'vqc', 'mqc', 'iqc'])), Interval(2019559, 2021565, set(['sqc', 'vqc', 'mqc', 'iqc'])), Interval(2384307, 2389728, set(['sqc', 'vqc', 'mqc', 'iqc'])), Interval(2390968, 2495725, set(['sqc', 'vqc', 'mqc', 'iqc'])), Interval(2497077, 2572502, set(['sqc', 'vqc', 'mqc', 'iqc'])), Interval(3279076, 3388580, set(['sqc', 'vqc', 'mqc', 'iqc'])), Interval(3389931, 3543539, set(['sqc', 'vqc', 'mqc', 'iqc']))])\n",
      "@ Enterococcus_faecalis_V583: \n",
      " IntervalTree([Interval(17366, 34592, set(['sqc', 'vqc', 'mqc', 'iqc'])), Interval(34623, 53473, set(['sqc', 'vqc', 'mqc', 'iqc'])), Interval(55657, 79832, set(['sqc', 'vqc', 'mqc', 'iqc'])), Interval(79976, 81754, set(['sqc', 'vqc', 'mqc', 'iqc'])), Interval(97708, 115541, set(['sqc', 'vqc', 'mqc', 'iqc'])), Interval(117308, 120076, set(['sqc', 'vqc', 'mqc', 'iqc'])), Interval(120101, 126095, set(['sqc', 'vqc', 'mqc', 'iqc'])), Interval(128967, 129281, set(['sqc', 'vqc', 'mqc', 'iqc'])), Interval(164317, 179465, set(['sqc', 'vqc', 'mqc', 'iqc'])), Interval(180497, 248019, set(['sqc', 'vqc', 'mqc', 'iqc'])), Interval(262596, 271403, set(['sqc', 'vqc', 'mqc', 'iqc'])), Interval(271428, 289263, set(['sqc', 'vqc', 'mqc', 'iqc'])), Interval(326476, 330997, set(['sqc', 'vqc', 'mqc', 'iqc'])), Interval(332345, 366782, set(['sqc', 'vqc', 'mqc', 'iqc'])), Interval(373174, 390824, set(['sqc', 'vqc', 'mqc', 'iqc'])), Interval(390870, 445125, set(['sqc', 'vqc', 'mqc', 'iqc'])), Interval(583424, 605080, set(['sqc', 'vqc', 'mqc', 'iqc'])), Interval(605101, 624746, set(['sqc', 'vqc', 'mqc', 'iqc'])), Interval(624952, 687794, set(['sqc', 'vqc', 'mqc', 'iqc'])), Interval(772909, 773069, set(['sqc', 'vqc', 'mqc', 'iqc'])), Interval(1075280, 1142430, set(['sqc', 'vqc', 'mqc', 'iqc'])), Interval(1145591, 1281788, set(['sqc', 'vqc', 'mqc', 'iqc'])), Interval(1394122, 1397985, set(['sqc', 'vqc', 'mqc', 'iqc'])), Interval(1446282, 1456453, set(['sqc', 'vqc', 'mqc', 'iqc'])), Interval(1456545, 1472582, set(['sqc', 'vqc', 'mqc', 'iqc'])), Interval(1472597, 1658758, set(['sqc', 'vqc', 'mqc', 'iqc'])), Interval(1658927, 1689698, set(['sqc', 'vqc', 'mqc', 'iqc'])), Interval(1689813, 1791333, set(['sqc', 'vqc', 'mqc', 'iqc'])), Interval(1792799, 1792905, set(['sqc', 'vqc', 'mqc', 'iqc'])), Interval(1843062, 1849580, set(['sqc', 'vqc', 'mqc', 'iqc'])), Interval(1849744, 1876531, set(['sqc', 'vqc', 'mqc', 'iqc'])), Interval(1876579, 1884077, set(['sqc', 'vqc', 'mqc', 'iqc'])), Interval(1884105, 1884244, set(['sqc', 'vqc', 'mqc', 'iqc'])), Interval(1897521, 1918327, set(['sqc', 'vqc', 'mqc', 'iqc'])), Interval(1918456, 1922636, set(['sqc', 'vqc', 'mqc', 'iqc'])), Interval(1962537, 1974499, set(['sqc', 'vqc', 'mqc', 'iqc'])), Interval(2048261, 2066437, set(['sqc', 'vqc', 'mqc', 'iqc'])), Interval(2066670, 2071615, set(['sqc', 'vqc', 'mqc', 'iqc'])), Interval(2087666, 2101322, set(['sqc', 'vqc', 'mqc', 'iqc'])), Interval(2105106, 2139223, set(['sqc', 'vqc', 'mqc', 'iqc'])), Interval(2140662, 2163470, set(['sqc', 'vqc', 'mqc', 'iqc'])), Interval(2274724, 2281895, set(['sqc', 'vqc', 'mqc', 'iqc'])), Interval(2283406, 2305810, set(['sqc', 'vqc', 'mqc', 'iqc'])), Interval(2305935, 2311099, set(['sqc', 'vqc', 'mqc', 'iqc'])), Interval(2313312, 2357455, set(['sqc', 'vqc', 'mqc', 'iqc'])), Interval(2357481, 2387073, set(['sqc', 'vqc', 'mqc', 'iqc'])), Interval(2388508, 2402451, set(['sqc', 'vqc', 'mqc', 'iqc'])), Interval(2403784, 2406239, set(['sqc', 'vqc', 'mqc', 'iqc'])), Interval(2419053, 2429475, set(['sqc', 'vqc', 'mqc', 'iqc'])), Interval(2431823, 2436983, set(['sqc', 'vqc', 'mqc', 'iqc'])), Interval(2462326, 2501962, set(['sqc', 'vqc', 'mqc', 'iqc'])), Interval(2502502, 2543904, set(['sqc', 'vqc', 'mqc', 'iqc'])), Interval(2545229, 2560868, set(['sqc', 'vqc', 'mqc', 'iqc'])), Interval(2561708, 2572553, set(['sqc', 'vqc', 'mqc', 'iqc'])), Interval(2574142, 2620959, set(['sqc', 'vqc', 'mqc', 'iqc'])), Interval(2628511, 2642090, set(['sqc', 'vqc', 'mqc', 'iqc'])), Interval(2642155, 2687301, set(['sqc', 'vqc', 'mqc', 'iqc'])), Interval(2688063, 2700460, set(['sqc', 'vqc', 'mqc', 'iqc'])), Interval(2736864, 2742073, set(['sqc', 'vqc', 'mqc', 'iqc'])), Interval(2742163, 2768357, set(['sqc', 'vqc', 'mqc', 'iqc'])), Interval(2796512, 2815294, set(['sqc', 'vqc', 'mqc', 'iqc'])), Interval(2815373, 2816749, set(['sqc', 'vqc', 'mqc', 'iqc'])), Interval(2829653, 2848421, set(['sqc', 'vqc', 'mqc', 'iqc'])), Interval(2902434, 2909312, set(['sqc', 'vqc', 'mqc', 'iqc'])), Interval(2913487, 2946057, set(['sqc', 'vqc', 'mqc', 'iqc'])), Interval(2980178, 2991980, set(['sqc', 'vqc', 'mqc', 'iqc'])), Interval(2992060, 3008171, set(['sqc', 'vqc', 'mqc', 'iqc'])), Interval(3077018, 3084235, set(['sqc', 'vqc', 'mqc', 'iqc'])), Interval(3085560, 3086947, set(['sqc', 'vqc', 'mqc', 'iqc'])), Interval(3215252, 3218031, set(['sqc', 'vqc', 'mqc', 'iqc']))])\n",
      "@ Burkholderia1_xenovorans_LB400_chromosome_1__complete_sequence: \n",
      " IntervalTree([Interval(168126, 168198, set(['sqc', 'vqc', 'mqc', 'iqc'])), Interval(169477, 169556, set(['sqc', 'vqc', 'mqc', 'iqc'])), Interval(783692, 784099, set(['sqc', 'vqc', 'mqc', 'iqc']))])\n",
      "@ Chlorobiumphaeovibrioides_DSM_265: \n",
      " IntervalTree([Interval(1929914, 1930267, set(['sqc', 'mqc', 'iqc']))])\n",
      "@ Sulfurihydrogenibium_yellowstonense_SS-5: \n",
      " IntervalTree([Interval(883, 943, set(['sqc', 'vqc', 'mqc', 'iqc'])), Interval(480670, 483513, set(['sqc', 'vqc', 'mqc', 'iqc'])), Interval(490682, 491761, set(['sqc', 'vqc', 'mqc', 'iqc'])), Interval(499273, 502735, set(['sqc', 'vqc', 'mqc', 'iqc'])), Interval(502736, 502981, set(['sqc', 'vqc', 'mqc', 'iqc'])), Interval(576526, 576834, set(['sqc', 'vqc', 'mqc', 'iqc'])), Interval(684896, 685186, set(['sqc', 'vqc', 'mqc', 'iqc'])), Interval(703142, 704142, set(['sqc', 'vqc', 'mqc', 'iqc'])), Interval(780878, 781191, set(['sqc', 'vqc', 'mqc', 'iqc'])), Interval(934242, 934439, set(['sqc', 'vqc', 'mqc', 'iqc'])), Interval(947711, 948205, set(['sqc', 'vqc', 'mqc', 'iqc'])), Interval(981697, 981848, set(['sqc', 'vqc', 'mqc', 'iqc'])), Interval(1075039, 1075105, set(['sqc', 'vqc', 'mqc', 'iqc'])), Interval(1084924, 1085816, set(['sqc', 'vqc', 'mqc', 'iqc'])), Interval(1177142, 1179801, set(['sqc', 'vqc', 'mqc', 'iqc'])), Interval(1231587, 1233213, set(['sqc', 'vqc', 'mqc', 'iqc'])), Interval(1404443, 1405438, set(['sqc', 'vqc', 'mqc', 'iqc'])), Interval(1479421, 1479589, set(['sqc', 'vqc', 'mqc', 'iqc'])), Interval(1481574, 1482058, set(['sqc', 'vqc', 'mqc', 'iqc'])), Interval(1484599, 1484602, set(['sqc', 'vqc', 'mqc', 'iqc'])), Interval(1492050, 1492479, set(['sqc', 'vqc', 'mqc', 'iqc'])), Interval(1524048, 1524768, set(['sqc', 'vqc', 'mqc', 'iqc']))])\n",
      "@ Caldibescii_DSM_6725: \n",
      " IntervalTree([Interval(2803730, 2803948, set(['sqc', 'vqc', 'mqc', 'iqc']))])\n",
      "@ Pyrococcus_furiosus_DSM_3638: \n",
      " IntervalTree([Interval(275668, 285072, set(['mqc', 'iqc'])), Interval(313424, 325275, set(['mqc', 'iqc'])), Interval(398318, 415502, set(['mqc', 'iqc'])), Interval(579451, 579549, set(['mqc', 'iqc'])), Interval(797824, 801038, set(['mqc', 'iqc'])), Interval(909859, 909963, set(['mqc', 'iqc'])), Interval(910550, 910648, set(['mqc', 'iqc'])), Interval(1173760, 1182238, set(['mqc', 'iqc'])), Interval(1630124, 1630215, set(['mqc', 'iqc'])), Interval(1720975, 1721057, set(['mqc', 'iqc'])), Interval(1891907, 1903011, set(['mqc', 'iqc']))])\n",
      "@ Akkermansia_muciniphila_ATCC_BAA-835: \n",
      " IntervalTree([Interval(512001, 512087, set(['sqc', 'vqc', 'mqc', 'iqc'])), Interval(512285, 512299, set(['sqc', 'vqc', 'mqc', 'iqc'])), Interval(512329, 534509, set(['sqc', 'vqc', 'mqc', 'iqc'])), Interval(812394, 812509, set(['sqc', 'vqc', 'mqc', 'iqc'])), Interval(812561, 822259, set(['sqc', 'vqc', 'mqc', 'iqc'])), Interval(898944, 989365, set(['sqc', 'vqc', 'mqc', 'iqc'])), Interval(2501364, 2610978, set(['sqc', 'vqc', 'mqc', 'iqc']))])\n",
      "@ Nostoc_sp._PCC_7120_DNA: \n",
      " IntervalTree([Interval(1273737, 1286796, set(['sqc', 'vqc', 'mqc', 'iqc'])), Interval(1288267, 1292767, set(['sqc', 'vqc', 'mqc', 'iqc']))])\n",
      "@ Herpetosiphon_aurantiacus_ATCC_23779: \n",
      " IntervalTree([Interval(4123453, 4123507, set(['sqc', 'vqc', 'mqc', 'iqc']))])\n",
      "@ Bacteroides_thetaiotaomicron_VPI-5482: \n",
      " IntervalTree([Interval(6000673, 6060083, set(['sqc', 'vqc', 'mqc', 'iqc']))])\n",
      "@ Deinococcus_radiodurans_R1_chromosome_1__complete_sequence: \n",
      " IntervalTree([Interval(1, 2133, set(['sqc', 'vqc', 'mqc', 'iqc'])), Interval(2644415, 2649113, set(['sqc', 'vqc', 'mqc', 'iqc'])), Interval(3054264, 3060986, set(['sqc', 'vqc', 'mqc', 'iqc']))])\n",
      "@ Sulfolobus_tokodaii_str._7_DNA__complete_genome: \n",
      " IntervalTree([Interval(2240715, 2269526, set(['sqc', 'mqc', 'iqc']))])\n",
      "@ Porphyromonas_gingivalis_ATCC_33277_DNA: \n",
      " IntervalTree([Interval(1449250, 1467445, set(['sqc', 'vqc', 'mqc', 'iqc'])), Interval(1468783, 1492705, set(['sqc', 'vqc', 'mqc', 'iqc']))])\n",
      "@ Bordetella_bronchiseptica_strain_RB50: \n",
      " IntervalTree([Interval(2348816, 2348859, set(['sqc', 'vqc', 'mqc', 'iqc']))])\n",
      "@ Desulfovibrio_vulgaris_DP4: \n",
      " IntervalTree([Interval(80092, 93430, set(['sqc', 'vqc', 'mqc', 'iqc'])), Interval(96046, 99855, set(['sqc', 'vqc', 'mqc', 'iqc'])), Interval(107477, 156375, set(['sqc', 'vqc', 'mqc', 'iqc'])), Interval(166487, 169400, set(['sqc', 'vqc', 'mqc', 'iqc'])), Interval(169544, 183492, set(['sqc', 'vqc', 'mqc', 'iqc'])), Interval(184612, 186676, set(['sqc', 'vqc', 'mqc', 'iqc'])), Interval(186677, 226064, set(['sqc', 'vqc', 'mqc', 'iqc'])), Interval(226277, 228516, set(['sqc', 'vqc', 'mqc', 'iqc'])), Interval(831814, 832690, set(['sqc', 'vqc', 'mqc', 'iqc'])), Interval(1048290, 1048604, set(['sqc', 'vqc', 'mqc', 'iqc'])), Interval(1093373, 1096176, set(['sqc', 'vqc', 'mqc', 'iqc'])), Interval(1232107, 1272827, set(['sqc', 'vqc', 'mqc', 'iqc'])), Interval(1316062, 1316387, set(['sqc', 'vqc', 'mqc', 'iqc'])), Interval(1580515, 1593627, set(['sqc', 'vqc', 'mqc', 'iqc'])), Interval(1622671, 1624812, set(['sqc', 'vqc', 'mqc', 'iqc'])), Interval(1743777, 1746112, set(['sqc', 'vqc', 'mqc', 'iqc'])), Interval(1751777, 1761482, set(['sqc', 'vqc', 'mqc', 'iqc'])), Interval(2533127, 2547562, set(['sqc', 'vqc', 'mqc', 'iqc'])), Interval(2862295, 2870619, set(['sqc', 'vqc', 'mqc', 'iqc'])), Interval(2872033, 2872421, set(['sqc', 'vqc', 'mqc', 'iqc'])), Interval(3006117, 3006220, set(['sqc', 'vqc', 'mqc', 'iqc'])), Interval(3199530, 3200726, set(['sqc', 'vqc', 'mqc', 'iqc'])), Interval(3203911, 3206624, set(['sqc', 'vqc', 'mqc', 'iqc'])), Interval(3232894, 3250889, set(['sqc', 'vqc', 'mqc', 'iqc'])), Interval(3360600, 3434946, set(['sqc', 'vqc', 'mqc', 'iqc'])), Interval(3442905, 3443701, set(['sqc', 'vqc', 'mqc', 'iqc']))])\n",
      "@ Chlorobiumlimicola_DSM_245: \n",
      " IntervalTree([Interval(2055217, 2059468, set(['sqc', 'vqc', 'mqc', 'iqc']))])\n",
      "@ Treponema_denticola_ATCC_35405: \n",
      " IntervalTree([Interval(1835657, 1835670, set(['sqc', 'mqc', 'iqc'])), Interval(1860950, 1860984, set(['sqc', 'mqc', 'iqc']))])\n",
      "@ Fusobacterium_nucleatum_subsp._nucleatum_ATCC_25586: \n",
      " IntervalTree([Interval(256767, 259803, set(['sqc', 'mqc']))])\n",
      "@ Sulfitobacter_NAS-14.1_scf_1099451320477_: \n",
      " IntervalTree([Interval(3162302, 3170758, set(['sqc', 'vqc', 'mqc', 'iqc'])), Interval(3171845, 3172135, set(['sqc', 'vqc', 'mqc', 'iqc'])), Interval(3254923, 3266380, set(['sqc', 'vqc', 'mqc', 'iqc'])), Interval(3369132, 3384106, set(['sqc', 'vqc', 'mqc', 'iqc'])), Interval(3385005, 3396510, set(['sqc', 'vqc', 'mqc', 'iqc'])), Interval(3469244, 3471684, set(['sqc', 'vqc', 'mqc', 'iqc'])), Interval(3472513, 3489457, set(['sqc', 'vqc', 'mqc', 'iqc']))])\n",
      "@ Archaeoglobus_fulgidus_DSM_4304: \n",
      " IntervalTree([Interval(750855, 763059, set(['sqc', 'vqc', 'mqc', 'iqc'])), Interval(764273, 798119, set(['sqc', 'vqc', 'mqc', 'iqc'])), Interval(1790119, 1880749, set(['sqc', 'vqc', 'mqc', 'iqc'])), Interval(1881964, 1888336, set(['sqc', 'vqc', 'mqc', 'iqc']))])\n",
      "@ Pyrococcus_horikoshii_OT3_DNA: \n",
      " IntervalTree([Interval(483364, 489090, set(['sqc', 'vqc', 'mqc', 'iqc'])), Interval(490400, 505729, set(['sqc', 'vqc', 'mqc', 'iqc']))])\n",
      "@ Sulfitobacter_sp._EE-36_scf_1099451318008_: \n",
      " IntervalTree([Interval(2974644, 2980735, set(['sqc', 'vqc', 'mqc', 'iqc'])), Interval(3003130, 3013290, set(['sqc', 'vqc', 'mqc', 'iqc']))])\n",
      "@ Nitrosomonas_europaea_ATCC_19718: \n",
      " IntervalTree([Interval(960141, 967828, set(['sqc', 'mqc', 'iqc'])), Interval(974205, 974312, set(['sqc', 'mqc', 'iqc'])), Interval(2561708, 2561979, set(['sqc', 'mqc', 'iqc'])), Interval(2561984, 2562234, set(['sqc', 'mqc', 'iqc']))])\n",
      "@ Zymomonas_mobilis_subsp._mobilis_ZM4: \n",
      " IntervalTree([Interval(114116, 122911, set(['sqc', 'mqc', 'iqc']))])\n",
      "@ Thermus_thermophilus_HB27: \n",
      " IntervalTree([Interval(85950, 95167, set(['sqc', 'vqc', 'mqc', 'iqc'])), Interval(95428, 109110, set(['sqc', 'vqc', 'mqc', 'iqc'])), Interval(117828, 135267, set(['sqc', 'vqc', 'mqc', 'iqc'])), Interval(141651, 180660, set(['sqc', 'vqc', 'mqc', 'iqc'])), Interval(245216, 261197, set(['sqc', 'vqc', 'mqc', 'iqc'])), Interval(280591, 309409, set(['sqc', 'vqc', 'mqc', 'iqc'])), Interval(310000, 319922, set(['sqc', 'vqc', 'mqc', 'iqc'])), Interval(328279, 339778, set(['sqc', 'vqc', 'mqc', 'iqc'])), Interval(358188, 379633, set(['sqc', 'vqc', 'mqc', 'iqc'])), Interval(379639, 385631, set(['sqc', 'vqc', 'mqc', 'iqc'])), Interval(386036, 386708, set(['sqc', 'vqc', 'mqc', 'iqc'])), Interval(390420, 401409, set(['sqc', 'vqc', 'mqc', 'iqc'])), Interval(408234, 408405, set(['sqc', 'vqc', 'mqc', 'iqc'])), Interval(412993, 418115, set(['sqc', 'vqc', 'mqc', 'iqc'])), Interval(418271, 420238, set(['sqc', 'vqc', 'mqc', 'iqc'])), Interval(422812, 431483, set(['sqc', 'vqc', 'mqc', 'iqc'])), Interval(432498, 432589, set(['sqc', 'vqc', 'mqc', 'iqc'])), Interval(434315, 462312, set(['sqc', 'vqc', 'mqc', 'iqc'])), Interval(468333, 497996, set(['sqc', 'vqc', 'mqc', 'iqc'])), Interval(498057, 510358, set(['sqc', 'vqc', 'mqc', 'iqc'])), Interval(550214, 555809, set(['sqc', 'vqc', 'mqc', 'iqc'])), Interval(556866, 559188, set(['sqc', 'vqc', 'mqc', 'iqc'])), Interval(563728, 579969, set(['sqc', 'vqc', 'mqc', 'iqc'])), Interval(583392, 583795, set(['sqc', 'vqc', 'mqc', 'iqc'])), Interval(603567, 608828, set(['sqc', 'vqc', 'mqc', 'iqc'])), Interval(611054, 613656, set(['sqc', 'vqc', 'mqc', 'iqc'])), Interval(616486, 621781, set(['sqc', 'vqc', 'mqc', 'iqc'])), Interval(625255, 628709, set(['sqc', 'vqc', 'mqc', 'iqc'])), Interval(670469, 706034, set(['sqc', 'vqc', 'mqc', 'iqc'])), Interval(898000, 929831, set(['sqc', 'vqc', 'mqc', 'iqc'])), Interval(933371, 941489, set(['sqc', 'vqc', 'mqc', 'iqc'])), Interval(1092551, 1135309, set(['sqc', 'vqc', 'mqc', 'iqc'])), Interval(1137754, 1141938, set(['sqc', 'vqc', 'mqc', 'iqc'])), Interval(1144056, 1178651, set(['sqc', 'vqc', 'mqc', 'iqc'])), Interval(1180875, 1183353, set(['sqc', 'vqc', 'mqc', 'iqc'])), Interval(1297528, 1299529, set(['sqc', 'vqc', 'mqc', 'iqc'])), Interval(1301086, 1310225, set(['sqc', 'vqc', 'mqc', 'iqc'])), Interval(1323758, 1325087, set(['sqc', 'vqc', 'mqc', 'iqc'])), Interval(1326408, 1351349, set(['sqc', 'vqc', 'mqc', 'iqc'])), Interval(1359117, 1360916, set(['sqc', 'vqc', 'mqc', 'iqc'])), Interval(1361382, 1362902, set(['sqc', 'vqc', 'mqc', 'iqc'])), Interval(1363890, 1370588, set(['sqc', 'vqc', 'mqc', 'iqc'])), Interval(1389600, 1395046, set(['sqc', 'vqc', 'mqc', 'iqc'])), Interval(1396416, 1412104, set(['sqc', 'vqc', 'mqc', 'iqc'])), Interval(1436799, 1440771, set(['sqc', 'vqc', 'mqc', 'iqc'])), Interval(1440800, 1451442, set(['sqc', 'vqc', 'mqc', 'iqc'])), Interval(1579202, 1595465, set(['sqc', 'vqc', 'mqc', 'iqc'])), Interval(1603687, 1613825, set(['sqc', 'vqc', 'mqc', 'iqc'])), Interval(1613846, 1615952, set(['sqc', 'vqc', 'mqc', 'iqc'])), Interval(1615996, 1620793, set(['sqc', 'vqc', 'mqc', 'iqc'])), Interval(1622475, 1629637, set(['sqc', 'vqc', 'mqc', 'iqc'])), Interval(1651088, 1655411, set(['sqc', 'vqc', 'mqc', 'iqc'])), Interval(1656680, 1662620, set(['sqc', 'vqc', 'mqc', 'iqc'])), Interval(1716652, 1744531, set(['sqc', 'vqc', 'mqc', 'iqc'])), Interval(1753431, 1758472, set(['sqc', 'vqc', 'mqc', 'iqc'])), Interval(1793312, 1850391, set(['sqc', 'vqc', 'mqc', 'iqc']))])\n",
      "@ Rhodopirellula_baltica_SH_1_complete_genome: \n",
      " IntervalTree([Interval(1284489, 1294156, set(['sqc', 'vqc', 'mqc', 'iqc'])), Interval(1295457, 1304480, set(['sqc', 'vqc', 'mqc', 'iqc']))])\n",
      "@ Methanosarcina_acetivorans_str._C2A: \n",
      " IntervalTree([Interval(3875084, 3875234, set(['sqc', 'vqc', 'mqc', 'iqc'])), Interval(3875808, 3876303, set(['sqc', 'vqc', 'mqc', 'iqc']))])\n",
      "@ Thermotoga_petrophila_RKU-1: \n",
      " IntervalTree([Interval(1, 476, set(['sqc', 'vqc', 'mqc', 'iqc'])), Interval(1721, 2626, set(['sqc', 'vqc', 'mqc', 'iqc']))])\n",
      "@ Desulfovibrio_piger_ATCC_29098: \n",
      " IntervalTree([Interval(1254693, 1269997, set(['sqc', 'vqc', 'mqc', 'iqc'])), Interval(2754022, 2772107, set(['sqc', 'vqc', 'mqc', 'iqc'])), Interval(2772621, 2776780, set(['sqc', 'vqc', 'mqc', 'iqc'])), Interval(2839677, 2840487, set(['sqc', 'vqc', 'mqc', 'iqc'])), Interval(2842702, 2842797, set(['sqc', 'vqc', 'mqc', 'iqc']))])\n",
      "@ Wolinella_succinogenes_DSM_1740: \n",
      " IntervalTree([Interval(1, 29856, set(['sqc', 'mqc', 'iqc'])), Interval(1105418, 1105516, set(['sqc', 'mqc', 'iqc']))])\n"
     ]
    }
   ],
   "source": [
    "overlap_trees = {}\n",
    "for gene in all_genes:\n",
    "    overlap_trees[gene] = overlap_all(list(gtrees[gene].values()))\n",
    "    if overlap_trees[gene]:\n",
    "        print('@', gene, end=\": \\n \")\n",
    "        print(overlap_trees[gene]) "
   ]
  },
  {
   "cell_type": "code",
   "execution_count": 7,
   "metadata": {
    "collapsed": false
   },
   "outputs": [
    {
     "name": "stdout",
     "output_type": "stream",
     "text": [
      "Interval(3199530, 3200726, set(['sqc', 'vqc', 'mqc', 'iqc']))\n",
      "Interval(1580515, 1593627, set(['sqc', 'vqc', 'mqc', 'iqc']))\n",
      "Interval(1093373, 1096176, set(['sqc', 'vqc', 'mqc', 'iqc']))\n",
      "Interval(184612, 186676, set(['sqc', 'vqc', 'mqc', 'iqc']))\n",
      "Interval(1316062, 1316387, set(['sqc', 'vqc', 'mqc', 'iqc']))\n",
      "Interval(1232107, 1272827, set(['sqc', 'vqc', 'mqc', 'iqc']))\n",
      "Interval(186677, 226064, set(['sqc', 'vqc', 'mqc', 'iqc']))\n",
      "Interval(3442905, 3443701, set(['sqc', 'vqc', 'mqc', 'iqc']))\n",
      "Interval(1743777, 1746112, set(['sqc', 'vqc', 'mqc', 'iqc']))\n",
      "Interval(166487, 169400, set(['sqc', 'vqc', 'mqc', 'iqc']))\n",
      "Interval(3232894, 3250889, set(['sqc', 'vqc', 'mqc', 'iqc']))\n",
      "Interval(1622671, 1624812, set(['sqc', 'vqc', 'mqc', 'iqc']))\n",
      "Interval(226277, 228516, set(['sqc', 'vqc', 'mqc', 'iqc']))\n",
      "Interval(3203911, 3206624, set(['sqc', 'vqc', 'mqc', 'iqc']))\n",
      "Interval(1048290, 1048604, set(['sqc', 'vqc', 'mqc', 'iqc']))\n",
      "Interval(3006117, 3006220, set(['sqc', 'vqc', 'mqc', 'iqc']))\n",
      "Interval(107477, 156375, set(['sqc', 'vqc', 'mqc', 'iqc']))\n",
      "Interval(3360600, 3434946, set(['sqc', 'vqc', 'mqc', 'iqc']))\n",
      "Interval(2533127, 2547562, set(['sqc', 'vqc', 'mqc', 'iqc']))\n",
      "Interval(1751777, 1761482, set(['sqc', 'vqc', 'mqc', 'iqc']))\n",
      "Interval(831814, 832690, set(['sqc', 'vqc', 'mqc', 'iqc']))\n",
      "Interval(80092, 93430, set(['sqc', 'vqc', 'mqc', 'iqc']))\n",
      "Interval(2872033, 2872421, set(['sqc', 'vqc', 'mqc', 'iqc']))\n",
      "Interval(96046, 99855, set(['sqc', 'vqc', 'mqc', 'iqc']))\n",
      "Interval(2862295, 2870619, set(['sqc', 'vqc', 'mqc', 'iqc']))\n",
      "Interval(169544, 183492, set(['sqc', 'vqc', 'mqc', 'iqc']))\n"
     ]
    }
   ],
   "source": [
    "for i in overlap_trees['Desulfovibrio_vulgaris_DP4']:\n",
    "   print(i)"
   ]
  },
  {
   "cell_type": "code",
   "execution_count": 8,
   "metadata": {
    "collapsed": false
   },
   "outputs": [
    {
     "name": "stdout",
     "output_type": "stream",
     "text": [
      "80092\n",
      "3443701\n",
      "done\n"
     ]
    }
   ],
   "source": [
    "#overlap_trees['Desulfovibrio_vulgaris_DP4'].remove_envelop(0, 179544)\n",
    "#overlap_trees['Desulfovibrio_vulgaris_DP4'].remove_overlap(0, 179544)   \n",
    "\n",
    "print(overlap_trees['Desulfovibrio_vulgaris_DP4'].begin())\n",
    "print(overlap_trees['Desulfovibrio_vulgaris_DP4'].end())\n",
    "print ('done')"
   ]
  },
  {
   "cell_type": "code",
   "execution_count": 9,
   "metadata": {
    "collapsed": false
   },
   "outputs": [],
   "source": [
    "#out=open('case', 'a')\n",
    "#for i in overlap_trees['Enterococcus_faecalis_V583']:\n",
    "   #       print(i,file=out)\n"
   ]
  },
  {
   "cell_type": "code",
   "execution_count": 18,
   "metadata": {
    "collapsed": false
   },
   "outputs": [
    {
     "name": "stdout",
     "output_type": "stream",
     "text": [
      "@ Clostridium_thermocellum_ATCC_27405 : 2003160 , 2010929 2\n",
      "@ Caldisaccharolyticus_DSM_8903 : 520488 , 1609657 6\n",
      "@ Geobacter_sulfurreducens_PCA : 2015315 , 3543539 7\n",
      "@ Enterococcus_faecalis_V583 : 17366 , 3218031 70\n",
      "@ Burkholderia1_xenovorans_LB400_chromosome_1__complete_sequence : 168126 , 784099 3\n",
      "@ Chlorobiumphaeovibrioides_DSM_265 : 1929914 , 1930267 1\n",
      "@ Sulfurihydrogenibium_yellowstonense_SS-5 : 883 , 1524768 22\n",
      "@ Caldibescii_DSM_6725 : 2803730 , 2803948 1\n",
      "@ Pyrococcus_furiosus_DSM_3638 : 275668 , 1903011 11\n",
      "@ Akkermansia_muciniphila_ATCC_BAA-835 : 512001 , 2610978 7\n",
      "@ Nostoc_sp._PCC_7120_DNA : 1273737 , 1292767 2\n",
      "@ Herpetosiphon_aurantiacus_ATCC_23779 : 4123453 , 4123507 1\n",
      "@ Bacteroides_thetaiotaomicron_VPI-5482 : 6000673 , 6060083 1\n",
      "@ Deinococcus_radiodurans_R1_chromosome_1__complete_sequence : 1 , 3060986 3\n",
      "@ Sulfolobus_tokodaii_str._7_DNA__complete_genome : 2240715 , 2269526 1\n",
      "@ Porphyromonas_gingivalis_ATCC_33277_DNA : 1449250 , 1492705 2\n",
      "@ Bordetella_bronchiseptica_strain_RB50 : 2348816 , 2348859 1\n",
      "@ Desulfovibrio_vulgaris_DP4 : 80092 , 3443701 26\n",
      "@ Chlorobiumlimicola_DSM_245 : 2055217 , 2059468 1\n",
      "@ Treponema_denticola_ATCC_35405 : 1835657 , 1860984 2\n",
      "@ Fusobacterium_nucleatum_subsp._nucleatum_ATCC_25586 : 256767 , 259803 1\n",
      "@ Sulfitobacter_NAS-14.1_scf_1099451320477_ : 3162302 , 3489457 7\n",
      "@ Archaeoglobus_fulgidus_DSM_4304 : 750855 , 1888336 4\n",
      "@ Pyrococcus_horikoshii_OT3_DNA : 483364 , 505729 2\n",
      "@ Sulfitobacter_sp._EE-36_scf_1099451318008_ : 2974644 , 3013290 2\n",
      "@ Nitrosomonas_europaea_ATCC_19718 : 960141 , 2562234 4\n",
      "@ Zymomonas_mobilis_subsp._mobilis_ZM4 : 114116 , 122911 1\n",
      "@ Thermus_thermophilus_HB27 : 85950 , 1850391 56\n",
      "@ Rhodopirellula_baltica_SH_1_complete_genome : 1284489 , 1304480 2\n",
      "@ Methanosarcina_acetivorans_str._C2A : 3875084 , 3876303 2\n",
      "@ Thermotoga_petrophila_RKU-1 : 1 , 2626 2\n",
      "@ Desulfovibrio_piger_ATCC_29098 : 1254693 , 2842797 5\n",
      "@ Wolinella_succinogenes_DSM_1740 : 1 , 1105516 2\n",
      "done\n"
     ]
    },
    {
     "data": {
      "image/png": "[encoded data removed]",
      "text/plain": [
       "<matplotlib.figure.Figure at 0x10919d390>"
      ]
     },
     "metadata": {},
     "output_type": "display_data"
    }
   ],
   "source": [
    "cutoff =10\n",
    "out =open('case','w+')\n",
    "overlap_trees = {}\n",
    "dist ={}\n",
    "for gene in all_genes:\n",
    "    overlap_trees[gene] = overlap_all(list(gtrees[gene].values()))\n",
    "    if overlap_trees[gene]:\n",
    "        print('@',gene,\":\",overlap_trees[gene].begin( ),\",\",overlap_trees[gene].end(), len(overlap_trees[gene])) \n",
    "        dist[gene]=len(overlap_trees[gene])\n",
    "        if len(overlap_trees[gene]) >cutoff:\n",
    "                for i in overlap_trees[gene]:\n",
    "                        print(gene,',',i,',',file=out)\n",
    "#for g in dist: \n",
    "   #     print(g, dist[g])\n",
    "s  = pd.Series(dist,index=dist.keys())\n",
    "s.plot(kind='hist', stacked=True, alpha=0.5) #, bins=10)\n",
    "#s.set_xlabel(\"Number of common misassembly regions\")\n",
    "#s.set_ylabel(\"Frequency\")\n",
    "plt.xlabel('Number of common misassembly regions')\n",
    "plt.ylabel('Frequency')\n",
    "#plt.figure()\n",
    "plt.savefig('misassambly-figure.png') \n",
    "print ('done')                \n"
   ]
  },
  {
   "cell_type": "code",
   "execution_count": null,
   "metadata": {
    "collapsed": false,
    "scrolled": false
   },
   "outputs": [],
   "source": [
    " #parse case files\n",
    "gdict=defaultdict(list)\n",
    "input=open('case','r')\n",
    "for line in input:\n",
    "        line=line.split(',')\n",
    "        #print(line)\n",
    "        gene=line[0]\n",
    "        x=line[1].split('(')\n",
    "        x=x[1]\n",
    "        y=line[2]\n",
    "        #print(x,\"-\",y)\n",
    "        gdict[line[0]].append(x)\n",
    "        gdict[line[0]].append(y)\n",
    "\n",
    "\n",
    "for g in gdict.keys(): \n",
    "         i=1\n",
    "         l=len(gdict[g])\n",
    "         min =20700000\n",
    "         max =-1\n",
    "         sum=0\n",
    "         while(i <l-1) :\n",
    "                gap=abs( int(gdict[g][i+1]) -int(gdict[g][i]) )\n",
    "                sum+=gap\n",
    "                if min >gap: \n",
    "                        min=gap\n",
    "                if max <gap:\n",
    "                        max=gap\n",
    "                i=i+2\n",
    "         print(g,\"has \",l/2,\"misassemblies with min/max/average gaps:\",str(min), \"/\",str(max),\"/\",(sum/l))\n",
    "\n",
    "\n",
    "         "
   ]
  },
  {
   "cell_type": "code",
   "execution_count": null,
   "metadata": {
    "collapsed": true
   },
   "outputs": [],
   "source": []
  }
 ],
 "metadata": {
  "kernelspec": {
   "display_name": "Python 2",
   "language": "python",
   "name": "python2"
  },
  "language_info": {
   "codemirror_mode": {
    "name": "ipython",
    "version": 2
   },
   "file_extension": ".py",
   "mimetype": "text/x-python",
   "name": "python",
   "nbconvert_exporter": "python",
   "pygments_lexer": "ipython2",
   "version": "2.7.10"
  }
 },
 "nbformat": 4,
 "nbformat_minor": 0
}
