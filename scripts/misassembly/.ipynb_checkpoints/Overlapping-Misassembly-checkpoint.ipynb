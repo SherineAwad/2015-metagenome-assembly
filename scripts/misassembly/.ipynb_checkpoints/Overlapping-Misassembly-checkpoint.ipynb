{
 "cells": [
  {
   "cell_type": "code",
   "execution_count": null,
   "metadata": {
    "collapsed": false
   },
   "outputs": [],
   "source": [
    "from __future__ import print_function\n",
    "\n",
    "from intervaltree import IntervalTree, Interval\n",
    "from collections import defaultdict\n",
    "import sys\n",
    "import pandas as pd\n",
    "import numpy as np\n",
    "import matplotlib.pyplot as plt\n",
    "pd.__version__\n",
    "%matplotlib inline\n",
    "import screed\n"
   ]
  },
  {
   "cell_type": "code",
   "execution_count": null,
   "metadata": {
    "collapsed": true
   },
   "outputs": [],
   "source": [
    "def overlap_intervals(self, other):\n",
    "    splits = (self | other)\n",
    "    splits.split_overlaps()\n",
    "    self_int_other = IntervalTree(filter(lambda r: self.overlaps(r) and other.overlaps(r), splits))\n",
    "    return self_int_other\n",
    "\n",
    "\n",
    "def overlap_all(trees):\n",
    "    if len(trees) in (0, 1):\n",
    "        return None\n",
    "\n",
    "    overlap = overlap_intervals(trees[0], trees[1])\n",
    "    for t in trees[2:]:\n",
    "        overlap = overlap_intervals(overlap, t)\n",
    "    overlap.merge_overlaps(data_reducer)\n",
    "\n",
    "    return overlap\n",
    "\n",
    "\n",
    "def data_reducer(current_data, new_data):\n",
    "    return current_data | new_data\n",
    "\n",
    "     "
   ]
  },
  {
   "cell_type": "code",
   "execution_count": null,
   "metadata": {
    "collapsed": false
   },
   "outputs": [],
   "source": [
    "gtrees = defaultdict(dict)\n",
    "all_genes = set()\n",
    "files = defaultdict(lambda: defaultdict(list))"
   ]
  },
  {
   "cell_type": "code",
   "execution_count": null,
   "metadata": {
    "collapsed": false
   },
   "outputs": [],
   "source": [
    "for f in ('vqc', 'iqc', 'sqc', 'mqc'):\n",
    "    for line in open(f): \n",
    "            x = line.rstrip().split(' ')\n",
    "            if x[2] != 'Extensive':  \n",
    "                files[f][x[14]].append((int(x[3]), int(x[4])))\n",
    "    print (x)"
   ]
  },
  {
   "cell_type": "code",
   "execution_count": null,
   "metadata": {
    "collapsed": false
   },
   "outputs": [],
   "source": [
    "gtrees = defaultdict(dict)\n",
    "all_genes = set()\n",
    "for f in files:\n",
    "    for g in files[f]:\n",
    "        all_genes.add(g)\n",
    "        gtrees[g][f] = IntervalTree(Interval(iv[0], iv[1], set([f]))\n",
    "                                    for iv in files[f][g])\n",
    "        \n",
    "    print (g)"
   ]
  },
  {
   "cell_type": "code",
   "execution_count": null,
   "metadata": {
    "collapsed": false,
    "scrolled": false
   },
   "outputs": [],
   "source": [
    "overlap_trees = {}\n",
    "for gene in all_genes:\n",
    "    overlap_trees[gene] = overlap_all(list(gtrees[gene].values()))\n",
    "    if overlap_trees[gene]:\n",
    "        print('@', gene, end=\": \\n \")\n",
    "        print(overlap_trees[gene]) \n",
    "\"\"\"       \n",
    "overlap_trees['Desulfovibrio_vulgaris_DP4'].remove_envelop(0, 179544)\n",
    "overlap_trees['Desulfovibrio_vulgaris_DP4'].remove_overlap(0, 179544)   \n",
    "for i in overlap_trees['Desulfovibrio_vulgaris_DP4']:\n",
    "      print(i)\n",
    "\"\"\" \n",
    "print ('done')"
   ]
  },
  {
   "cell_type": "code",
   "execution_count": null,
   "metadata": {
    "collapsed": false
   },
   "outputs": [],
   "source": [
    "#out=open('case', 'a')\n",
    "#for i in overlap_trees['Enterococcus_faecalis_V583']:\n",
    "   #       print(i,file=out)\n"
   ]
  },
  {
   "cell_type": "code",
   "execution_count": null,
   "metadata": {
    "collapsed": false
   },
   "outputs": [],
   "source": [
    "cutoff =10\n",
    "out =open('case','w+')\n",
    "overlap_trees = {}\n",
    "dist ={}\n",
    "for gene in all_genes:\n",
    "    overlap_trees[gene] = overlap_all(list(gtrees[gene].values()))\n",
    "    if overlap_trees[gene]:\n",
    "        print('@',gene,\":\",overlap_trees[gene].begin( ),\",\",overlap_trees[gene].end(), len(overlap_trees[gene])) \n",
    "        dist[gene]=len(overlap_trees[gene])\n",
    "        if len(overlap_trees[gene]) >cutoff:\n",
    "                for i in overlap_trees[gene]:\n",
    "                        print(gene,',',i,',',file=out)\n",
    "#for g in dist: \n",
    "   #     print(g, dist[g])\n",
    "s  = pd.Series(dist,index=dist.keys())\n",
    "s.plot(kind='hist', stacked=True, alpha=0.5) #, bins=10)\n",
    "#s.set_xlabel(\"Number of common misassembly regions\")\n",
    "#s.set_ylabel(\"Frequency\")\n",
    "plt.xlabel('Number of common misassembly regions')\n",
    "plt.ylabel('Frequency')\n",
    "#plt.figure()\n",
    "plt.savefig('misassambly-figure.png') \n",
    "print ('done')                \n"
   ]
  },
  {
   "cell_type": "code",
   "execution_count": null,
   "metadata": {
    "collapsed": false,
    "scrolled": true
   },
   "outputs": [],
   "source": [
    "common_genomes =set()\n",
    "#parse case files\n",
    "gdict=defaultdict(list)\n",
    "input=open('case','r')\n",
    "for line in input:\n",
    "        line=line.split(',')\n",
    "        #print(line)\n",
    "        gene=line[0]\n",
    "        x=line[1].split('(')\n",
    "        x=x[1]\n",
    "        y=line[2]\n",
    "        #print(x,\"-\",y)\n",
    "        gdict[line[0]].append(x)\n",
    "        gdict[line[0]].append(y)\n",
    "\n",
    "for g in gdict.keys(): \n",
    "         i=1\n",
    "         l=len(gdict[g])\n",
    "         min =20700000\n",
    "         max =-1\n",
    "         sum=0\n",
    "         while(i <l-1) :\n",
    "                gap=abs( int(gdict[g][i+1]) -int(gdict[g][i]) )\n",
    "                sum+=gap\n",
    "                if min >gap: \n",
    "                        min=gap\n",
    "                if max <gap:\n",
    "                        max=gap\n",
    "                i=i+2\n",
    "         #print(g,\"has \",l/2,\"misassemblies with min/max/average gaps:\",str(min), \"/\",str(max),\"/\",(sum/l))\n",
    "         common_genomes.add(g)\n",
    "for g in common_genomes: \n",
    "         print ('Shouldnt be printed: ', g) \n",
    "fout =open('filtered_reference.fa','w+')\n",
    "for record in screed.open('mircea.fa'):\n",
    "       \n",
    "        if record.name.split()[0] in {'Enterococcus_faecalis_V583','Desulfovibrio_vulgaris_DP4','Sulfurihydrogenibium_yellowstonense_SS-5','Thermus_thermophilus_HB27','Pyrococcus_furiosus_DSM_3638'}:\n",
    "                 #print( record.name )\n",
    "                 continue \n",
    "        else: \n",
    "                    #print ('printed to file: ' ,record.name.split()[0] )\n",
    "                    print(\">\",record.name.split()[0], file=fout)\n",
    "                    print(record.sequence, file=fout)\n",
    "print('done')"
   ]
  },
  {
   "cell_type": "code",
   "execution_count": null,
   "metadata": {
    "collapsed": true
   },
   "outputs": [],
   "source": [
    "\n"
   ]
  },
  {
   "cell_type": "code",
   "execution_count": null,
   "metadata": {
    "collapsed": false
   },
   "outputs": [],
   "source": []
  },
  {
   "cell_type": "code",
   "execution_count": null,
   "metadata": {
    "collapsed": true
   },
   "outputs": [],
   "source": []
  }
 ],
 "metadata": {
  "kernelspec": {
   "display_name": "Python 2",
   "language": "python",
   "name": "python2"
  },
  "language_info": {
   "codemirror_mode": {
    "name": "ipython",
    "version": 2
   },
   "file_extension": ".py",
   "mimetype": "text/x-python",
   "name": "python",
   "nbconvert_exporter": "python",
   "pygments_lexer": "ipython2",
   "version": "2.7.10"
  }
 },
 "nbformat": 4,
 "nbformat_minor": 0
}
