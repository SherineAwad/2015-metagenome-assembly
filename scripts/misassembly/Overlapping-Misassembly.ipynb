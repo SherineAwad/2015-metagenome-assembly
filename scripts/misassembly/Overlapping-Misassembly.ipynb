{
 "cells": [
  {
   "cell_type": "code",
   "execution_count": null,
   "metadata": {
    "collapsed": false
   },
   "outputs": [],
   "source": [
    "from __future__ import print_function\n",
    "\n",
    "from intervaltree import IntervalTree, Interval\n",
    "from collections import defaultdict\n",
    "import sys\n",
    "import pandas as pd\n",
    "import numpy as np\n",
    "import matplotlib.pyplot as plt\n",
    "pd.__version__\n",
    "%matplotlib inline\n",
    "import screed\n"
   ]
  },
  {
   "cell_type": "code",
   "execution_count": null,
   "metadata": {
    "collapsed": true
   },
   "outputs": [],
   "source": [
    "def overlap_intervals(self, other):\n",
    "    splits = (self | other)\n",
    "    splits.split_overlaps()\n",
    "    self_int_other = IntervalTree(filter(lambda r: self.overlaps(r) and other.overlaps(r), splits))\n",
    "    return self_int_other\n",
    "\n",
    "\n",
    "def overlap_all(trees):\n",
    "    if len(trees) in (0, 1):\n",
    "        return None\n",
    "\n",
    "    overlap = overlap_intervals(trees[0], trees[1])\n",
    "    for t in trees[2:]:\n",
    "        overlap = overlap_intervals(overlap, t)\n",
    "    overlap.merge_overlaps(data_reducer)\n",
    "\n",
    "    return overlap\n",
    "\n",
    "\n",
    "def data_reducer(current_data, new_data):\n",
    "    return current_data | new_data\n",
    "\n",
    "     "
   ]
  },
  {
   "cell_type": "code",
   "execution_count": null,
   "metadata": {
    "collapsed": false
   },
   "outputs": [],
   "source": [
    "gtrees = defaultdict(dict)\n",
    "all_genes = set()\n",
    "files = defaultdict(lambda: defaultdict(list))"
   ]
  },
  {
   "cell_type": "code",
   "execution_count": null,
   "metadata": {
    "collapsed": false
   },
   "outputs": [],
   "source": [
    "for f in ('vqc', 'iqc', 'sqc', 'mqc'):\n",
    "    for line in open(f): \n",
    "            x = line.rstrip().split(' ')\n",
    "            if x[2] != 'Extensive':  \n",
    "                files[f][x[14]].append((int(x[3]), int(x[4])))\n",
    "print (x)"
   ]
  },
  {
   "cell_type": "code",
   "execution_count": null,
   "metadata": {
    "collapsed": false
   },
   "outputs": [],
   "source": [
    "gtrees = defaultdict(dict)\n",
    "all_genes = set()\n",
    "for f in files:\n",
    "    for g in files[f]:\n",
    "        all_genes.add(g)\n",
    "        gtrees[g][f] = IntervalTree(Interval(iv[0], iv[1], set([f]))\n",
    "                                    for iv in files[f][g])\n",
    "        \n",
    "        print (g)"
   ]
  },
  {
   "cell_type": "code",
   "execution_count": null,
   "metadata": {
    "collapsed": false,
    "scrolled": false
   },
   "outputs": [],
   "source": [
    "overlap_trees = {}\n",
    "for gene in all_genes:\n",
    "    overlap_trees[gene] = overlap_all(list(gtrees[gene].values()))\n",
    "    if overlap_trees[gene]:\n",
    "        print('@', gene, end=\": \\n \")\n",
    "        print(overlap_trees[gene]) \n",
    "\"\"\"       \n",
    "overlap_trees['Desulfovibrio_vulgaris_DP4'].remove_envelop(0, 179544)\n",
    "overlap_trees['Desulfovibrio_vulgaris_DP4'].remove_overlap(0, 179544)   \n",
    "for i in overlap_trees['Desulfovibrio_vulgaris_DP4']:\n",
    "      print(i)\n",
    "\"\"\" \n",
    "print ('done')"
   ]
  },
  {
   "cell_type": "code",
   "execution_count": null,
   "metadata": {
    "collapsed": false
   },
   "outputs": [],
   "source": [
    "#out=open('case', 'a')\n",
    "#for i in overlap_trees['Enterococcus_faecalis_V583']:\n",
    "   #       print(i,file=out)\n"
   ]
  },
  {
   "cell_type": "code",
   "execution_count": 97,
   "metadata": {
    "collapsed": false
   },
   "outputs": [
    {
     "name": "stdout",
     "output_type": "stream",
     "text": [
      "@ Clostridium_thermocellum_ATCC_27405 : 2003160 , 2010929 2\n",
      "@ Caldisaccharolyticus_DSM_8903 : 520488 , 1609657 6\n",
      "@ Geobacter_sulfurreducens_PCA : 2015315 , 3543539 7\n",
      "@ Enterococcus_faecalis_V583 : 17366 , 3218031 70\n",
      "@ Burkholderia1_xenovorans_LB400_chromosome_1__complete_sequence : 168126 , 784099 3\n",
      "@ Chlorobiumphaeovibrioides_DSM_265 : 1929914 , 1930267 1\n",
      "@ Sulfurihydrogenibium_yellowstonense_SS-5 : 883 , 1524768 22\n",
      "@ Caldibescii_DSM_6725 : 2803730 , 2803948 1\n",
      "@ Pyrococcus_furiosus_DSM_3638 : 275668 , 1903011 11\n",
      "@ Akkermansia_muciniphila_ATCC_BAA-835 : 512001 , 2610978 7\n",
      "@ Nostoc_sp._PCC_7120_DNA : 1273737 , 1292767 2\n",
      "@ Herpetosiphon_aurantiacus_ATCC_23779 : 4123453 , 4123507 1\n",
      "@ Bacteroides_thetaiotaomicron_VPI-5482 : 6000673 , 6060083 1\n",
      "@ Deinococcus_radiodurans_R1_chromosome_1__complete_sequence : 1 , 3060986 3\n",
      "@ Sulfolobus_tokodaii_str._7_DNA__complete_genome : 2240715 , 2269526 1\n",
      "@ Porphyromonas_gingivalis_ATCC_33277_DNA : 1449250 , 1492705 2\n",
      "@ Bordetella_bronchiseptica_strain_RB50 : 2348816 , 2348859 1\n",
      "@ Desulfovibrio_vulgaris_DP4 : 80092 , 3443701 26\n",
      "@ Chlorobiumlimicola_DSM_245 : 2055217 , 2059468 1\n",
      "@ Treponema_denticola_ATCC_35405 : 1835657 , 1860984 2\n",
      "@ Fusobacterium_nucleatum_subsp._nucleatum_ATCC_25586 : 256767 , 259803 1\n",
      "@ Sulfitobacter_NAS-14.1_scf_1099451320477_ : 3162302 , 3489457 7\n",
      "@ Archaeoglobus_fulgidus_DSM_4304 : 750855 , 1888336 4\n",
      "@ Pyrococcus_horikoshii_OT3_DNA : 483364 , 505729 2\n",
      "@ Sulfitobacter_sp._EE-36_scf_1099451318008_ : 2974644 , 3013290 2\n",
      "@ Nitrosomonas_europaea_ATCC_19718 : 960141 , 2562234 4\n",
      "@ Zymomonas_mobilis_subsp._mobilis_ZM4 : 114116 , 122911 1\n",
      "@ Thermus_thermophilus_HB27 : 85950 , 1850391 56\n",
      "@ Rhodopirellula_baltica_SH_1_complete_genome : 1284489 , 1304480 2\n",
      "@ Methanosarcina_acetivorans_str._C2A : 3875084 , 3876303 2\n",
      "@ Thermotoga_petrophila_RKU-1 : 1 , 2626 2\n",
      "@ Desulfovibrio_piger_ATCC_29098 : 1254693 , 2842797 5\n",
      "@ Wolinella_succinogenes_DSM_1740 : 1 , 1105516 2\n",
      "done\n"
     ]
    },
    {
     "data": {
      "image/png": "[encoded data removed]",
      "text/plain": [
       "<matplotlib.figure.Figure at 0x10921fa90>"
      ]
     },
     "metadata": {},
     "output_type": "display_data"
    }
   ],
   "source": [
    "cutoff =2\n",
    "out =open('case','w+')\n",
    "overlap_trees = {}\n",
    "dist ={}\n",
    "for gene in all_genes:\n",
    "            overlap_trees[gene] = overlap_all(list(gtrees[gene].values()))\n",
    "            if overlap_trees[gene]:\n",
    "                    print('@',gene,\":\",overlap_trees[gene].begin( ),\",\",overlap_trees[gene].end(), len(overlap_trees[gene])) \n",
    "                    dist[gene]=len(overlap_trees[gene])\n",
    "                    if len(overlap_trees[gene]) >cutoff:\n",
    "                            for i in overlap_trees[gene]:\n",
    "                                    print(gene,',',i,',',file=out)\n",
    "\n",
    "                        \n",
    "s  = pd.Series(dist,index=dist.keys())\n",
    "s.plot(kind='hist', stacked=True, alpha=0.5)#,bins=10)\n",
    "plt.xlabel('Number of overlapping misassembly regions')\n",
    "plt.ylabel('Frequency')\n",
    "#plt.figure()\n",
    "plt.savefig('misassambly-figure.png') \n",
    "print ('done')                \n"
   ]
  },
  {
   "cell_type": "code",
   "execution_count": 96,
   "metadata": {
    "collapsed": false,
    "scrolled": true
   },
   "outputs": [
    {
     "name": "stdout",
     "output_type": "stream",
     "text": [
      "14\n",
      "8\n",
      "22\n",
      "6\n",
      "140\n",
      "52\n",
      "14\n",
      "14\n",
      "44\n",
      "94\n",
      "12\n",
      "8\n",
      "6\n",
      "Shouldnt be printed:  Sulfitobacter_NAS-14.1_scf_1099451320477_ \n",
      "Shouldnt be printed:  Archaeoglobus_fulgidus_DSM_4304 \n",
      "Shouldnt be printed:  Pyrococcus_furiosus_DSM_3638 \n",
      "Shouldnt be printed:  Deinococcus_radiodurans_R1_chromosome_1__complete_sequence \n",
      "Shouldnt be printed:  Enterococcus_faecalis_V583 \n",
      "Shouldnt be printed:  Desulfovibrio_vulgaris_DP4 \n",
      "Shouldnt be printed:  Akkermansia_muciniphila_ATCC_BAA-835 \n",
      "Shouldnt be printed:  Geobacter_sulfurreducens_PCA \n",
      "Shouldnt be printed:  Sulfurihydrogenibium_yellowstonense_SS-5 \n",
      "Shouldnt be printed:  Thermus_thermophilus_HB27 \n",
      "Shouldnt be printed:  Caldisaccharolyticus_DSM_8903 \n",
      "Shouldnt be printed:  Nitrosomonas_europaea_ATCC_19718 \n",
      "Shouldnt be printed:  Burkholderia1_xenovorans_LB400_chromosome_1__complete_sequence \n",
      "done\n"
     ]
    }
   ],
   "source": [
    "common_genomes =set()\n",
    "#parse case files\n",
    "gdict=defaultdict(list)\n",
    "input=open('case','r')\n",
    "for line in input:\n",
    "        line=line.split(',')\n",
    "        #print(line)\n",
    "        gene=line[0]\n",
    "        x=line[1].split('(')\n",
    "        x=x[1]\n",
    "        y=line[2]\n",
    "        #print(x,\"-\",y)\n",
    "        gdict[line[0]].append(x)\n",
    "        gdict[line[0]].append(y)\n",
    "\n",
    "for g in gdict.keys(): \n",
    "         i=1\n",
    "         l=len(gdict[g])\n",
    "         print (l)\n",
    "         min =20700000\n",
    "         max =-1\n",
    "         sum=0\n",
    "         while(i <l-1) :\n",
    "                gap=abs( int(gdict[g][i+1]) -int(gdict[g][i]) )\n",
    "                sum+=gap\n",
    "                if min >gap: \n",
    "                        min=gap\n",
    "                if max <gap:\n",
    "                        max=gap\n",
    "                i=i+2\n",
    "         #print(g,\"has \",l/2,\"misassemblies with min/max/average gaps:\",str(min), \"/\",str(max),\"/\",(sum/l))\n",
    "         common_genomes.add(g)\n",
    "for g in common_genomes: \n",
    "         print ('Shouldnt be printed: ', g) \n",
    "fout =open('filtered2_reference.fa','w+')\n",
    "for record in screed.open('mircea.fa'):\n",
    "       \n",
    "        if record.name.split()[0] in common_genomes:  \n",
    "                 continue \n",
    "        else: \n",
    "                    #print ('printed to file: ' ,record.name.split()[0] )\n",
    "                    print(\">\",record.name.split()[0], file=fout)\n",
    "                    print(record.sequence, file=fout)\n",
    "print('done')"
   ]
  },
  {
   "cell_type": "code",
   "execution_count": null,
   "metadata": {
    "collapsed": true
   },
   "outputs": [],
   "source": [
    "\n"
   ]
  },
  {
   "cell_type": "code",
   "execution_count": null,
   "metadata": {
    "collapsed": false
   },
   "outputs": [],
   "source": []
  },
  {
   "cell_type": "code",
   "execution_count": null,
   "metadata": {
    "collapsed": true
   },
   "outputs": [],
   "source": []
  }
 ],
 "metadata": {
  "kernelspec": {
   "display_name": "Python 2",
   "language": "python",
   "name": "python2"
  },
  "language_info": {
   "codemirror_mode": {
    "name": "ipython",
    "version": 2
   },
   "file_extension": ".py",
   "mimetype": "text/x-python",
   "name": "python",
   "nbconvert_exporter": "python",
   "pygments_lexer": "ipython2",
   "version": "2.7.10"
  }
 },
 "nbformat": 4,
 "nbformat_minor": 0
}
