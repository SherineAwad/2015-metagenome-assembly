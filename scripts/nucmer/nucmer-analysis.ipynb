{
 "cells": [
  {
   "cell_type": "code",
   "execution_count": null,
   "metadata": {
    "collapsed": false
   },
   "outputs": [],
   "source": [
    "from __future__ import print_function\n",
    "\n",
    "from intervaltree import IntervalTree, Interval\n",
    "from collections import defaultdict\n",
    "import sys\n",
    "import numpy\n",
    "import screed"
   ]
  },
  {
   "cell_type": "code",
   "execution_count": null,
   "metadata": {
    "collapsed": true
   },
   "outputs": [],
   "source": [
    "def overlap_intervals(self, other):\n",
    "    splits = (self | other)\n",
    "    splits.split_overlaps()\n",
    "    self_int_other = IntervalTree(filter(lambda r: self.overlaps(r) and other.overlaps(r), splits))\n",
    "    return self_int_other\n",
    "\n",
    "\n",
    "def overlap_all(trees):\n",
    "    if len(trees) in (0, 1):\n",
    "        return None\n",
    "\n",
    "    overlap = overlap_intervals(trees[0], trees[1])\n",
    "    for t in trees[2:]:\n",
    "        overlap = overlap_intervals(overlap, t)\n",
    "    overlap.merge_overlaps(data_reducer)\n",
    "\n",
    "    return overlap\n",
    "\n",
    "\n",
    "def data_reducer(current_data, new_data):\n",
    "    return current_data | new_data"
   ]
  },
  {
   "cell_type": "code",
   "execution_count": null,
   "metadata": {
    "collapsed": false
   },
   "outputs": [],
   "source": [
    "ref =[0,205603715 ]\n",
    "gtrees = defaultdict(dict)\n",
    "all_genes = set()\n",
    "files = defaultdict(lambda: defaultdict(list))\n",
    "ref =  defaultdict(lambda: defaultdict(list))"
   ]
  },
  {
   "cell_type": "code",
   "execution_count": null,
   "metadata": {
    "collapsed": false
   },
   "outputs": [],
   "source": [
    "refsizes={}\n",
    "ivals={}\n",
    "for record in screed.open('mircea.fa'):\n",
    "        refsizes[record.name.split()[0]] = len(record.sequence)\n",
    "for genome in refsizes:\n",
    "        ivals[genome] = numpy.zeros(refsizes[genome])\n",
    "\n",
    "#for f in ('id', 'mg'): \n",
    "f='idba.coords'\n",
    "#f='mg'\n",
    "file= open(f)\n",
    "lines = file.readlines()[5:]\n",
    "file.close()\n",
    "for line in lines:\n",
    "            x =line.split()\n",
    "            s1, e1 = int(x[0]), int(x[1])\n",
    "            s2, e2 =int(x[3]), int(x[4])\n",
    "            ident =(x[9])\n",
    "            s1 =min(s1,e1)\n",
    "            e1 =max(s1,e1)\n",
    "            s2 =min(s2,e2)\n",
    "            e2 =max(s2,e2)\n",
    "            name1=x[11]\n",
    "            lgth =e2-s2 \n",
    "            #print(s1,e1,s2,e2,ident,lgth,name1)\n",
    "            if ident<99 or lgth <100: \n",
    "                   continue\n",
    "            genome = ivals[name1]\n",
    "            genome[s1 - 1:e1] = numpy.ones(e1 - s1 + 1)\n",
    "            files[f][name1].append((int(s1), int(e1))) # instead of x[0], x[1]\n",
    "            #files[f][x[11]].append((x[0],x[1]))\n",
    "total=0.\n",
    "covered=0.\n",
    "uncovered=0.\n",
    "for k, v in ivals.items():\n",
    "          total += len(v)\n",
    "          covered+=sum(v)         \n",
    "uncovered =total-covered\n",
    "print('All Values are:', covered, uncovered, covered+uncovered,total,covered/total, uncovered/total)"
   ]
  },
  {
   "cell_type": "code",
   "execution_count": null,
   "metadata": {
    "collapsed": false
   },
   "outputs": [],
   "source": [
    "gtrees = defaultdict(dict)\n",
    "tt=defaultdict(dict)\n",
    "ref_tree=defaultdict(dict)\n",
    "all_genes = set()\n",
    "for f in files:\n",
    "    for g in files[f]:\n",
    "        all_genes.add(g)\n",
    "        gtrees[g][f] = IntervalTree(Interval(iv[0], iv[1], set([f]))\n",
    "                                    for iv in files[f][g])\n",
    "        ref_tree[g][f] = IntervalTree(Interval(iv[0], iv[1], set([f]))\n",
    "                                    for iv in ref[f][g])\n",
    "        tt[g] = IntervalTree([Interval(1, 3814139)])\n",
    "print('done')"
   ]
  },
  {
   "cell_type": "code",
   "execution_count": 48,
   "metadata": {
    "collapsed": false
   },
   "outputs": [
    {
     "name": "stdout",
     "output_type": "stream",
     "text": [
      "All Done 108754305.0 5299867.0\n"
     ]
    }
   ],
   "source": [
    "#uncovered intervals\n",
    "covered =0.0\n",
    "uncovered=0.0\n",
    "total=0.0\n",
    "refsizes={}\n",
    "ivals={}  \n",
    "uncov={}\n",
    "s =0.\n",
    "uncov2=0.\n",
    "cov=0.\n",
    "t=205603715.0\n",
    "for record in screed.open('mircea.fa'):\n",
    "        refsizes[record.name.split()[0]] = len(record.sequence)\n",
    "for genome in refsizes:\n",
    "        ivals[genome] = numpy.zeros(refsizes[genome])\n",
    "        uncov[genome]= numpy.zeros(refsizes[genome])\n",
    "t= IntervalTree([Interval(1, 3814139)])\n",
    "    \n",
    "for i in gtrees: \n",
    "   # t= IntervalTree([Interval(1, 3814139)])\n",
    "    for j in gtrees[i]:                          \n",
    "            for interval in sorted(gtrees[i][j]):\n",
    "                    #uncov= ivals[i]\n",
    "                    t.chop(interval.begin, interval.end)\n",
    "                    cov+=(interval.end-interval.begin) +1         \n",
    "                    #genome = ivals[i]\n",
    "                    #genome[interval.begin - 1:interval.end] = numpy.ones(interval.end - interval.begin+ 1) \n",
    "                    #ivals[i][interval.begin - 1:interval.end] = numpy.ones(interval.end - interval.begin+ 1) \n",
    "\n",
    "    for it in t: \n",
    "        uncov2+=(it.end-it.begin)\n",
    "\"\"\"       \n",
    "for k, v in ivals.items(): #swapped if switched to uncov\n",
    "          total += len(v)\n",
    "          covered+=sum(v)\n",
    "          for i in v: \n",
    "                if i ==0: \n",
    "                    uncovered+=1\n",
    "uncovered =total-covered   \n",
    "\"\"\" \n",
    "print('All Done', cov, uncov2)\n",
    "#print ('The covered is :',covered, uncovered,covered+uncovered, total, covered/total, uncovered/total, uncov2, uncov2/total)"
   ]
  },
  {
   "cell_type": "markdown",
   "metadata": {},
   "source": [
    "# Testing sample"
   ]
  },
  {
   "cell_type": "code",
   "execution_count": 49,
   "metadata": {
    "collapsed": false
   },
   "outputs": [
    {
     "name": "stdout",
     "output_type": "stream",
     "text": [
      "22.0 12.0\n"
     ]
    }
   ],
   "source": [
    "gs = defaultdict(dict)\n",
    "fs = defaultdict(lambda: defaultdict(list))\n",
    "fs['idba']['a'].append((1,5))\n",
    "fs['idba']['a'].append((10,15))\n",
    "fs['idba']['a'].append((17,25))\n",
    "fs['idba']['a'].append((20,25))\n",
    "\n",
    "cov =0.\n",
    "t= IntervalTree([Interval(1, 30)])\n",
    "for f in fs:\n",
    "    for g in fs[f]:\n",
    "        gs[g][f] = IntervalTree(Interval(iv[0], iv[1], set([f]))\n",
    "                                    for iv in fs[f][g])\n",
    "for i in gs: \n",
    "    for j in gs[i]:                          \n",
    "            for interval in sorted(gs[i][j]):\n",
    "                cov+=(interval.end-interval.begin)\n",
    "                t.chop(interval.begin, interval.end)\n",
    "uncov=0.\n",
    "for it in t: \n",
    "    uncov+=(it.end-it.begin)\n",
    "print (cov,uncov) "
   ]
  },
  {
   "cell_type": "markdown",
   "metadata": {},
   "source": [
    "# Below are some stuff I tried"
   ]
  },
  {
   "cell_type": "code",
   "execution_count": null,
   "metadata": {
    "collapsed": false
   },
   "outputs": [],
   "source": [
    "#This works but choping has weird values\n",
    "for i in ref_tree: \n",
    "        for j in ref_tree[i]:\n",
    "               #print(ref_tree[i][j].begin(), ref_tree[i][j].end())   \n",
    "               for a in gtrees: \n",
    "                  for b in gtrees[a]: \n",
    "                         #gtrees[i][j]=ref_tree[i][j] -gtrees[a][b]\n",
    "                        #gtrees[i][j]=ref_tree[i][j] &gtrees[a][b]\n",
    "                         #ref_tree[i][j].chop(gtrees[i][j].begin(), gtrees[i][j].end())   \n",
    "                         print(j,ref_tree[i][j].begin(), ref_tree[i][j].end())   \n",
    "\n"
   ]
  },
  {
   "cell_type": "code",
   "execution_count": null,
   "metadata": {
    "collapsed": false
   },
   "outputs": [],
   "source": [
    "ref_copy=defaultdict(dict)\n",
    "ref_copy =ref_tree\n",
    "t = IntervalTree([Interval(1, 3814139)])\n",
    "for i in ref_tree: \n",
    "     for j in ref_tree[i]:  \n",
    "              for a in gtrees: \n",
    "                   for b in gtrees[a]: \n",
    "                         #print(ref_tree[i][j].begin(), ref_tree[i][j].end(), gtrees[a][b].begin(), gtrees[a][b].end())\n",
    "                         #ref_tree[i][j]-=gtrees[a][b]\n",
    "                         x= gtrees[a][b].begin()\n",
    "                         y =gtrees[a][b].end()\n",
    "                         #print (x,y)\n",
    "                         #t.chop(gtrees[a][b].begin(), gtrees[a][b].end())\n",
    "                         #t.chop(5,500)\n",
    "                         #t.chop(x,x+700)\n",
    "                         print(t)\n",
    "                         #ref_tree[g][f].chop(gtrees[a][b].begin(), gtrees[a][b].end())   \n",
    "                         #gtrees[a][b]-=ref_tree[i][j]\n",
    "                         #print(ref_tree[i][j].begin(), ref_tree[i][j].end(), gtrees[a][b].begin(), gtrees[a][b].end())  \n",
    "\"\"\"\n",
    "for i in gtrees: \n",
    "        for j in gtrees[i]:                          \n",
    "            for interval in sorted(gtrees[i][j]):\n",
    "                    print(interval.begin, interval.end) \n",
    "            print('done with', i,j)\"\"\"\n",
    "#print(t)"
   ]
  },
  {
   "cell_type": "code",
   "execution_count": null,
   "metadata": {
    "collapsed": true
   },
   "outputs": [],
   "source": [
    "#ivs = [(0, 1000000), (1000001,2000000), (2000001, 3000000)]\n",
    "#t = IntervalTree(Interval(*iv) for iv in ivs)\n",
    "#t.remove_overlap(25, 35)\n",
    "#t.chop(25,35)\n",
    "#sorted(t)\n",
    "t = IntervalTree()\n",
    "#t[1:2]=(1,2)\n",
    "for f in files: \n",
    "        for g in files[f]: \n",
    "                t.addi(ref[f][g].begin(),ref[g][f].end())\n",
    "                # print(t)\n",
    "            \n",
    "t=t&gtrees\n",
    "#t-=gtrees\n",
    "#print (t)\n",
    "print(t)\n",
    "\n",
    "#print(gtrees.items())\n",
    "for f in files: \n",
    "        for g in files[f]:\n",
    "            #t.chopi(gtrees[g][f].begin(), gtrees[g][f].end())\n",
    "           #t.removei(gtrees[g][f].begin(), gtrees[g][f].end())\n",
    "print (t)"
   ]
  }
 ],
 "metadata": {
  "kernelspec": {
   "display_name": "Python 2",
   "language": "python",
   "name": "python2"
  },
  "language_info": {
   "codemirror_mode": {
    "name": "ipython",
    "version": 2
   },
   "file_extension": ".py",
   "mimetype": "text/x-python",
   "name": "python",
   "nbconvert_exporter": "python",
   "pygments_lexer": "ipython2",
   "version": "2.7.10"
  }
 },
 "nbformat": 4,
 "nbformat_minor": 0
}
