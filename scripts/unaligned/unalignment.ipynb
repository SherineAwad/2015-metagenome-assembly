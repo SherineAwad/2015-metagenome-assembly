{
 "cells": [
  {
   "cell_type": "code",
   "execution_count": 1,
   "metadata": {
    "collapsed": false
   },
   "outputs": [
    {
     "name": "stdout",
     "output_type": "stream",
     "text": [
      "Populating the interactive namespace from numpy and matplotlib\n"
     ]
    }
   ],
   "source": [
    "%pylab inline"
   ]
  },
  {
   "cell_type": "code",
   "execution_count": 2,
   "metadata": {
    "collapsed": false
   },
   "outputs": [],
   "source": [
    "from __future__ import print_function\n",
    "\n",
    "from collections import defaultdict\n",
    "\n",
    "from intervaltree import IntervalTree, Interval"
   ]
  },
  {
   "cell_type": "code",
   "execution_count": 3,
   "metadata": {
    "collapsed": true
   },
   "outputs": [],
   "source": [
    "def overlap_intervals(self, other):\n",
    "    splits = (self | other)\n",
    "    splits.split_overlaps()\n",
    "    self_int_other = IntervalTree(filter(lambda r: self.overlaps(r) and other.overlaps(r), splits))\n",
    "    return self_int_other\n",
    "\n",
    "\n",
    "def overlap_all(trees):\n",
    "    if len(trees) < 2:\n",
    "        return None\n",
    "\n",
    "    overlap = overlap_intervals(trees[0], trees[1])\n",
    "    for t in trees[2:]:\n",
    "        overlap = overlap_intervals(overlap, t)\n",
    "    overlap.merge_overlaps(data_reducer)\n",
    "\n",
    "    return overlap\n",
    "\n",
    "\n",
    "def data_reducer(current_data, new_data):\n",
    "    return current_data | new_data"
   ]
  },
  {
   "cell_type": "code",
   "execution_count": 4,
   "metadata": {
    "collapsed": false
   },
   "outputs": [],
   "source": [
    "gtrees = defaultdict(dict)\n",
    "all_genes = set()\n",
    "files = defaultdict(lambda: defaultdict(list))\n",
    "#allref= defaultdict(lambda: defaultdict(list))"
   ]
  },
  {
   "cell_type": "code",
   "execution_count": 5,
   "metadata": {
    "collapsed": false
   },
   "outputs": [
    {
     "name": "stdout",
     "output_type": "stream",
     "text": [
      "done\n"
     ]
    }
   ],
   "source": [
    "for f in ('vqc', 'iqc', 'sqc', 'mqc'):\n",
    "    for line in open(f): \n",
    "            x = line.rstrip().split(' ')\n",
    "            if  \"Real\" in  str(x[0]):\n",
    "                files[f][x[14]].append((int(x[3]), int(x[4])))\n",
    "print('done')"
   ]
  },
  {
   "cell_type": "code",
   "execution_count": 6,
   "metadata": {
    "collapsed": false
   },
   "outputs": [
    {
     "name": "stdout",
     "output_type": "stream",
     "text": [
      "done\n"
     ]
    }
   ],
   "source": [
    "gtrees = defaultdict(dict)\n",
    "all_genes = set()\n",
    "for f in files:\n",
    "    for g in files[f]:\n",
    "        all_genes.add(g)\n",
    "        gtrees[g][f] = IntervalTree(Interval(iv[0], iv[1], set([f]))\n",
    "                                    for iv in files[f][g])\n",
    "print('done')"
   ]
  },
  {
   "cell_type": "code",
   "execution_count": 7,
   "metadata": {
    "collapsed": false
   },
   "outputs": [],
   "source": [
    "genome_size = 2056037\n",
    "overlap_trees = {}\n",
    "unaligned_regions = {}\n",
    "for gene in all_genes:\n",
    "   # overlap_trees[gene] = overlap_all(list(gtrees[gene].values()))\n",
    "    unaligned = IntervalTree()\n",
    "    unaligned[1:genome_size] = set()\n",
    "\n",
    "    if gtrees[gene]:\n",
    "        for f in gtrees[gene]:\n",
    "            for interval in gtrees[gene][f]:\n",
    "                unaligned.chop(interval.begin, interval.end)\n",
    "    \n",
    "    unaligned_regions[gene] = unaligned"
   ]
  },
  {
   "cell_type": "code",
   "execution_count": 8,
   "metadata": {
    "collapsed": false,
    "scrolled": true
   },
   "outputs": [],
   "source": [
    "overlap_unaligned = overlap_all(list(unaligned_regions.values()))"
   ]
  },
  {
   "cell_type": "code",
   "execution_count": 9,
   "metadata": {
    "collapsed": false
   },
   "outputs": [],
   "source": [
    "for interval in sorted(overlap_unaligned):\n",
    "    print(interval.begin, interval.end)"
   ]
  },
  {
   "cell_type": "code",
   "execution_count": 10,
   "metadata": {
    "collapsed": false
   },
   "outputs": [
    {
     "name": "stdout",
     "output_type": "stream",
     "text": [
      "set([])\n",
      "IntervalTree([Interval(7342, 19915, set([])), Interval(20410, 21101, set([])), Interval(22108, 51023, set([])), Interval(54386, 56369, set([])), Interval(64308, 81630, set([])), Interval(81960, 113510, set([])), Interval(114726, 138190, set([])), Interval(139946, 201166, set([])), Interval(209767, 218790, set([])), Interval(231983, 249747, set([])), Interval(250349, 254037, set([])), Interval(269054, 276619, set([])), Interval(277336, 309679, set([])), Interval(312361, 321162, set([])), Interval(322193, 363778, set([])), Interval(368585, 444551, set([])), Interval(445866, 445868, set([])), Interval(447359, 481256, set([])), Interval(490460, 490647, set([])), Interval(502299, 502300, set([])), Interval(506337, 582329, set([])), Interval(583308, 670584, set([])), Interval(674969, 766458, set([])), Interval(769065, 769091, set([])), Interval(791611, 804060, set([])), Interval(814613, 823887, set([])), Interval(832597, 871293, set([])), Interval(871848, 871856, set([])), Interval(871961, 907761, set([])), Interval(910462, 934491, set([])), Interval(935294, 935321, set([])), Interval(942672, 998180, set([])), Interval(999026, 999204, set([])), Interval(1000010, 1002742, set([])), Interval(1004278, 1053321, set([])), Interval(1061699, 1100581, set([])), Interval(1100767, 1106512, set([])), Interval(1107231, 1112280, set([])), Interval(1112437, 1148689, set([])), Interval(1152299, 1158920, set([])), Interval(1159498, 1193446, set([])), Interval(1194765, 1223200, set([])), Interval(1224840, 1267333, set([])), Interval(1269258, 1334418, set([])), Interval(1335514, 1354647, set([])), Interval(1357075, 1395272, set([])), Interval(1401066, 1429113, set([])), Interval(1436238, 1465308, set([])), Interval(1466102, 1504735, set([])), Interval(1505989, 1672037, set([])), Interval(1672326, 1741044, set([])), Interval(1774353, 1791022, set([])), Interval(1803046, 1816406, set([])), Interval(1820557, 1823134, set([])), Interval(1846504, 1853418, set([])), Interval(1853707, 1904280, set([])), Interval(1904445, 2019443, set([])), Interval(2023023, 2039727, set([])), Interval(2042387, 2044275, set([])), Interval(2045738, 2046558, set([]))])\n"
     ]
    }
   ],
   "source": [
    "print(overlap_unaligned['Deinococcus_radiodurans_R1_chromosome_1__complete_sequence'])\n",
    "#print()\n",
    "print(unaligned_regions['Deinococcus_radiodurans_R1_chromosome_1__complete_sequence'])"
   ]
  },
  {
   "cell_type": "markdown",
   "metadata": {},
   "source": [
    "## End of modifications"
   ]
  },
  {
   "cell_type": "code",
   "execution_count": 11,
   "metadata": {
    "collapsed": false,
    "scrolled": true
   },
   "outputs": [
    {
     "name": "stdout",
     "output_type": "stream",
     "text": [
      "done \n"
     ]
    }
   ],
   "source": [
    "cutoff =0\n",
    "out =open('unaligned-regions','w+')\n",
    "for gene in all_genes:\n",
    "        if len(overlap_unaligned[gene]) >=cutoff:\n",
    "                for i in overlap_unaligned[gene]:\n",
    "                        print(gene,',',i,',',file=out)\n",
    "                        print(gene,',',i,',')\n",
    "print ('done ')                \n"
   ]
  },
  {
   "cell_type": "code",
   "execution_count": 15,
   "metadata": {
    "collapsed": false
   },
   "outputs": [],
   "source": [
    "#parse case files\n",
    "gdict=defaultdict(list)\n",
    "input=open('unaligned-regions','r')\n",
    "for line in input:\n",
    "        line=line.split(',')\n",
    "        #print(line)\n",
    "        gene=line[0]\n",
    "        x=line[1].split('(')\n",
    "        x=x[1]\n",
    "        y=line[2]\n",
    "        #print(x,\"-\",y)\n",
    "        gdict[line[0]].append(x)\n",
    "        gdict[line[0]].append(y)\n",
    "\n",
    "\n",
    "for g in gdict.keys(): \n",
    "         i=1\n",
    "         l=len(gdict[g])\n",
    "         min =20700000\n",
    "         max =-1\n",
    "         sum=0\n",
    "         while(i <l-1) :\n",
    "                gap=abs( int(gdict[g][i+1]) -int(gdict[g][i]) )\n",
    "                sum+=gap\n",
    "                if min >gap: \n",
    "                        min=gap\n",
    "                if max <gap:\n",
    "                        max=gap\n",
    "                i=i+2\n",
    "         print(g,\"has \",l/2,\"unaligned with min/max/average gaps:\",str(min), \"/\",str(max),\"/\",(sum/l))"
   ]
  },
  {
   "cell_type": "code",
   "execution_count": 13,
   "metadata": {
    "collapsed": false
   },
   "outputs": [],
   "source": [
    "for i in overlap_unaligned['Desulfovibrio_vulgaris_DP4']:\n",
    "      print(i)"
   ]
  },
  {
   "cell_type": "code",
   "execution_count": 14,
   "metadata": {
    "collapsed": false
   },
   "outputs": [
    {
     "data": {
      "text/plain": [
       "[Interval(0, 3), Interval(7, 10)]"
      ]
     },
     "execution_count": 14,
     "metadata": {},
     "output_type": "execute_result"
    }
   ],
   "source": [
    "#t = IntervalTree([Interval(2, 5),Interval(7,9)])\n",
    "t=IntervalTree([Interval(0,10)])\n",
    "t.chop(3,7)\n",
    "#t.split_overlaps()\n",
    "sorted(t)"
   ]
  },
  {
   "cell_type": "code",
   "execution_count": null,
   "metadata": {
    "collapsed": true
   },
   "outputs": [],
   "source": []
  }
 ],
 "metadata": {
  "kernelspec": {
   "display_name": "Python 2",
   "language": "python",
   "name": "python2"
  },
  "language_info": {
   "codemirror_mode": {
    "name": "ipython",
    "version": 2
   },
   "file_extension": ".py",
   "mimetype": "text/x-python",
   "name": "python",
   "nbconvert_exporter": "python",
   "pygments_lexer": "ipython2",
   "version": "2.7.10"
  }
 },
 "nbformat": 4,
 "nbformat_minor": 0
}
