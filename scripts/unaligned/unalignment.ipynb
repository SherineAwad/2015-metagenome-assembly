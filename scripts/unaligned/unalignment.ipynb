{
 "cells": [
  {
   "cell_type": "code",
   "execution_count": null,
   "metadata": {
    "collapsed": false
   },
   "outputs": [],
   "source": [
    "from __future__ import print_function\n",
    "\n",
    "from intervaltree import IntervalTree, Interval\n",
    "from collections import defaultdict"
   ]
  },
  {
   "cell_type": "code",
   "execution_count": null,
   "metadata": {
    "collapsed": true
   },
   "outputs": [],
   "source": [
    "def overlap_intervals(self, other):\n",
    "    splits = (self | other)\n",
    "    splits.split_overlaps()\n",
    "    self_int_other = IntervalTree(filter(lambda r: self.overlaps(r) and other.overlaps(r), splits))\n",
    "    return self_int_other\n",
    "\n",
    "\n",
    "def overlap_all(trees):\n",
    "    if len(trees) in (0, 1):\n",
    "        return None\n",
    "\n",
    "    overlap = overlap_intervals(trees[0], trees[1])\n",
    "    for t in trees[2:]:\n",
    "        overlap = overlap_intervals(overlap, t)\n",
    "    overlap.merge_overlaps(data_reducer)\n",
    "\n",
    "    return overlap\n",
    "\n",
    "\n",
    "def data_reducer(current_data, new_data):\n",
    "    return current_data | new_data"
   ]
  },
  {
   "cell_type": "code",
   "execution_count": null,
   "metadata": {
    "collapsed": false
   },
   "outputs": [],
   "source": [
    "gtrees = defaultdict(dict)\n",
    "all_genes = set()\n",
    "files = defaultdict(lambda: defaultdict(list))\n",
    "allref= defaultdict(lambda: defaultdict(list))"
   ]
  },
  {
   "cell_type": "code",
   "execution_count": null,
   "metadata": {
    "collapsed": false
   },
   "outputs": [],
   "source": [
    "for f in ('vqc', 'iqc', 'sqc', 'mqc'):\n",
    "    for line in open(f): \n",
    "            x = line.rstrip().split(' ')\n",
    "            if  \"Real\" in  str(x[0]):\n",
    "                files[f][x[14]].append((int(x[3]), int(x[4])))\n",
    "                allref[f][x[14]].append((0,205603715))\n",
    "print('done')"
   ]
  },
  {
   "cell_type": "code",
   "execution_count": 120,
   "metadata": {
    "collapsed": false
   },
   "outputs": [
    {
     "name": "stdout",
     "output_type": "stream",
     "text": [
      "done\n"
     ]
    }
   ],
   "source": [
    "gtrees = defaultdict(dict)\n",
    "atrees = defaultdict(dict)\n",
    "all_genes = set()\n",
    "for f in files:\n",
    "    for g in files[f]:\n",
    "        all_genes.add(g)\n",
    "        gtrees[g][f] = IntervalTree(Interval(iv[0], iv[1], set([f]))\n",
    "                                    for iv in files[f][g])\n",
    "        gtrees[g][f].chop(0,1000000)\n",
    "print('done')"
   ]
  },
  {
   "cell_type": "code",
   "execution_count": 121,
   "metadata": {
    "collapsed": false,
    "scrolled": true
   },
   "outputs": [
    {
     "name": "stdout",
     "output_type": "stream",
     "text": [
      "@ Clostridium_thermocellum_ATCC_27405 : 2003160 , 2010929 2\n",
      "@ Caldisaccharolyticus_DSM_8903 : 1607495 , 1609657 2\n",
      "@ Geobacter_sulfurreducens_PCA : 2015315 , 3543539 7\n",
      "@ Enterococcus_faecalis_V583 : 1075280 , 3218031 50\n",
      "@ Chlorobiumphaeovibrioides_DSM_265 : 1929914 , 1930267 1\n",
      "@ Sulfurihydrogenibium_yellowstonense_SS-5 : 1075039 , 1524768 10\n",
      "@ Caldibescii_DSM_6725 : 2803730 , 2803948 1\n",
      "@ Pyrococcus_furiosus_DSM_3638 : 1173760 , 1903011 4\n",
      "@ Akkermansia_muciniphila_ATCC_BAA-835 : 2501364 , 2610978 1\n",
      "@ Nostoc_sp._PCC_7120_DNA : 1273737 , 1292767 2\n",
      "@ Herpetosiphon_aurantiacus_ATCC_23779 : 4123453 , 4123507 1\n",
      "@ Bacteroides_thetaiotaomicron_VPI-5482 : 6000673 , 6060083 1\n",
      "@ Deinococcus_radiodurans_R1_chromosome_1__complete_sequence : 2644415 , 3060986 2\n",
      "@ Sulfolobus_tokodaii_str._7_DNA__complete_genome : 2240715 , 2269526 1\n",
      "@ Porphyromonas_gingivalis_ATCC_33277_DNA : 1449250 , 1492705 2\n",
      "@ Bordetella_bronchiseptica_strain_RB50 : 2348816 , 2348859 1\n",
      "@ Desulfovibrio_vulgaris_DP4 : 1048290 , 3443701 17\n",
      "@ Chlorobiumlimicola_DSM_245 : 2055217 , 2059468 1\n",
      "@ Treponema_denticola_ATCC_35405 : 1835657 , 1860984 2\n",
      "@ Sulfitobacter_NAS-14.1_scf_1099451320477_ : 3162302 , 3489457 7\n",
      "@ Archaeoglobus_fulgidus_DSM_4304 : 1790119 , 1888336 2\n",
      "@ Sulfitobacter_sp._EE-36_scf_1099451318008_ : 2974644 , 3013290 2\n",
      "@ Nitrosomonas_europaea_ATCC_19718 : 2561708 , 2562234 2\n",
      "@ Thermus_thermophilus_HB27 : 1092551 , 1850391 25\n",
      "@ Rhodopirellula_baltica_SH_1_complete_genome : 1284489 , 1304480 2\n",
      "@ Methanosarcina_acetivorans_str._C2A : 3875084 , 3876303 2\n",
      "@ Desulfovibrio_piger_ATCC_29098 : 1254693 , 2842797 5\n",
      "@ Wolinella_succinogenes_DSM_1740 : 1105418 , 1105516 1\n",
      "done \n"
     ]
    }
   ],
   "source": [
    "cutoff =10\n",
    "out =open('unaligned-regions','w+')\n",
    "overlap_gtrees = {}\n",
    "for gene in all_genes:\n",
    "    overlap_gtrees[gene] = overlap_all(list(gtrees[gene].values()))\n",
    "    \n",
    "    if overlap_gtrees[gene]:\n",
    "        print('@',gene,\":\",overlap_gtrees[gene].begin( ),\",\",overlap_gtrees[gene].end(), len(overlap_gtrees[gene])) \n",
    "        if len(overlap_gtrees[gene]) >cutoff:\n",
    "                for i in overlap_gtrees[gene]:\n",
    "                        print(gene,',',i,',',file=out)\n",
    "print ('done ')                \n"
   ]
  },
  {
   "cell_type": "code",
   "execution_count": 130,
   "metadata": {
    "collapsed": false
   },
   "outputs": [
    {
     "name": "stdout",
     "output_type": "stream",
     "text": [
      "Enterococcus_faecalis_V583  has  50 unaligned with min/max/average gaps: 7665 / 1545698 / 270642\n",
      "Desulfovibrio_vulgaris_DP4  has  17 unaligned with min/max/average gaps: 226674 / 2264424 / 583941\n",
      "Thermus_thermophilus_HB27  has  25 unaligned with min/max/average gaps: 8222 / 712637 / 100665\n"
     ]
    }
   ],
   "source": [
    "#parse case files\n",
    "gdict=defaultdict(list)\n",
    "input=open('unaligned-regions','r')\n",
    "for line in input:\n",
    "        line=line.split(',')\n",
    "        #print(line)\n",
    "        gene=line[0]\n",
    "        x=line[1].split('(')\n",
    "        x=x[1]\n",
    "        y=line[2]\n",
    "        #print(x,\"-\",y)\n",
    "        gdict[line[0]].append(x)\n",
    "        gdict[line[0]].append(y)\n",
    "\n",
    "\n",
    "for g in gdict.keys(): \n",
    "         i=1\n",
    "         l=len(gdict[g])\n",
    "         min =20700000\n",
    "         max =-1\n",
    "         sum=0\n",
    "         while(i <l-1) :\n",
    "                gap=abs( int(gdict[g][i+1]) -int(gdict[g][i]) )\n",
    "                sum+=gap\n",
    "                if min >gap: \n",
    "                        min=gap\n",
    "                if max <gap:\n",
    "                        max=gap\n",
    "                i=i+2\n",
    "         print(g,\"has \",l/2,\"unaligned with min/max/average gaps:\",str(min), \"/\",str(max),\"/\",(sum/l))"
   ]
  },
  {
   "cell_type": "code",
   "execution_count": 116,
   "metadata": {
    "collapsed": false
   },
   "outputs": [
    {
     "name": "stdout",
     "output_type": "stream",
     "text": [
      "Interval(1622671, 1624812, set(['sqc', 'vqc', 'mqc', 'iqc']))\n",
      "Interval(3203911, 3206624, set(['sqc', 'vqc', 'mqc', 'iqc']))\n",
      "Interval(1048290, 1048604, set(['sqc', 'vqc', 'mqc', 'iqc']))\n",
      "Interval(1316062, 1316387, set(['sqc', 'vqc', 'mqc', 'iqc']))\n",
      "Interval(3006117, 3006220, set(['sqc', 'vqc', 'mqc', 'iqc']))\n",
      "Interval(3232894, 3250889, set(['sqc', 'vqc', 'mqc', 'iqc']))\n",
      "Interval(2872033, 2872421, set(['sqc', 'vqc', 'mqc', 'iqc']))\n",
      "Interval(1232107, 1272827, set(['sqc', 'vqc', 'mqc', 'iqc']))\n",
      "Interval(2533127, 2547562, set(['sqc', 'vqc', 'mqc', 'iqc']))\n",
      "Interval(3442905, 3443701, set(['sqc', 'vqc', 'mqc', 'iqc']))\n",
      "Interval(1751777, 1761482, set(['sqc', 'vqc', 'mqc', 'iqc']))\n",
      "Interval(2862295, 2870619, set(['sqc', 'vqc', 'mqc', 'iqc']))\n",
      "Interval(1743777, 1746112, set(['sqc', 'vqc', 'mqc', 'iqc']))\n",
      "Interval(3199530, 3200726, set(['sqc', 'vqc', 'mqc', 'iqc']))\n",
      "Interval(1580515, 1593627, set(['sqc', 'vqc', 'mqc', 'iqc']))\n",
      "Interval(1093373, 1096176, set(['sqc', 'vqc', 'mqc', 'iqc']))\n",
      "Interval(3360600, 3434946, set(['sqc', 'vqc', 'mqc', 'iqc']))\n"
     ]
    }
   ],
   "source": [
    "for i in overlap_gtrees['Desulfovibrio_vulgaris_DP4']:\n",
    "      print(i)"
   ]
  },
  {
   "cell_type": "code",
   "execution_count": null,
   "metadata": {
    "collapsed": true
   },
   "outputs": [],
   "source": []
  }
 ],
 "metadata": {
  "kernelspec": {
   "display_name": "Python 2",
   "language": "python",
   "name": "python2"
  },
  "language_info": {
   "codemirror_mode": {
    "name": "ipython",
    "version": 2
   },
   "file_extension": ".py",
   "mimetype": "text/x-python",
   "name": "python",
   "nbconvert_exporter": "python",
   "pygments_lexer": "ipython2",
   "version": "2.7.10"
  }
 },
 "nbformat": 4,
 "nbformat_minor": 0
}
