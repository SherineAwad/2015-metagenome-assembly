{
 "cells": [
  {
   "cell_type": "code",
   "execution_count": 98,
   "metadata": {
    "collapsed": false
   },
   "outputs": [],
   "source": [
    "from __future__ import print_function\n",
    "\n",
    "from collections import defaultdict\n",
    "\n",
    "from intervaltree import IntervalTree, Interval"
   ]
  },
  {
   "cell_type": "code",
   "execution_count": 99,
   "metadata": {
    "collapsed": true
   },
   "outputs": [],
   "source": [
    "def overlap_intervals(self, other):\n",
    "    splits = (self | other)\n",
    "    splits.split_overlaps()\n",
    "    self_int_other = IntervalTree(filter(lambda r: self.overlaps(r) and other.overlaps(r), splits))\n",
    "    return self_int_other\n",
    "\n",
    "\n",
    "def overlap_all(trees):\n",
    "    if len(trees) < 2:\n",
    "        return None\n",
    "\n",
    "    overlap = overlap_intervals(trees[0], trees[1])\n",
    "    for t in trees[2:]:\n",
    "        overlap = overlap_intervals(overlap, t)\n",
    "    overlap.merge_overlaps(data_reducer)\n",
    "\n",
    "    return overlap\n",
    "\n",
    "\n",
    "def data_reducer(current_data, new_data):\n",
    "    return current_data | new_data"
   ]
  },
  {
   "cell_type": "code",
   "execution_count": 100,
   "metadata": {
    "collapsed": false
   },
   "outputs": [],
   "source": [
    "gtrees = defaultdict(dict)\n",
    "all_genes = set()\n",
    "files = defaultdict(lambda: defaultdict(list))\n",
    "#allref= defaultdict(lambda: defaultdict(list))"
   ]
  },
  {
   "cell_type": "code",
   "execution_count": 101,
   "metadata": {
    "collapsed": false
   },
   "outputs": [
    {
     "name": "stdout",
     "output_type": "stream",
     "text": [
      "done\n"
     ]
    }
   ],
   "source": [
    "for f in ('vqc', 'iqc', 'sqc', 'mqc'):\n",
    "    for line in open(f): \n",
    "            x = line.rstrip().split(' ')\n",
    "            if  \"Real\" in  str(x[0]):\n",
    "                files[f][x[14]].append((int(x[3]), int(x[4])))\n",
    "print('done')"
   ]
  },
  {
   "cell_type": "code",
   "execution_count": 117,
   "metadata": {
    "collapsed": false
   },
   "outputs": [
    {
     "name": "stdout",
     "output_type": "stream",
     "text": [
      "None\n",
      "None\n",
      "None\n",
      "None\n",
      "None\n",
      "None\n",
      "None\n",
      "None\n",
      "None\n",
      "None\n",
      "None\n",
      "None\n",
      "None\n",
      "None\n",
      "None\n",
      "Node<1452832, depth=5, balance=0>\n",
      " Interval(1452832, 1456175, set(['sqc']))\n",
      "<:  Node<818599, depth=4, balance=-1>\n",
      "     Interval(818599, 819866, set(['sqc']))\n",
      "    <:  Node<301728, depth=3, balance=-1>\n",
      "         Interval(301728, 302481, set(['sqc']))\n",
      "        <:  Node<165507, depth=2, balance=-1>\n",
      "             Interval(165507, 165915, set(['sqc']))\n",
      "            <:  Node<93731, depth=1, balance=0>\n",
      "                 Interval(93731, 113398, set(['sqc']))\n",
      "        >:  Node<323654, depth=1, balance=0>\n",
      "             Interval(323654, 328361, set(['sqc']))\n",
      "    >:  Node<1054409, depth=2, balance=1>\n",
      "         Interval(1054409, 1055363, set(['sqc']))\n",
      "        >:  Node<1447336, depth=1, balance=0>\n",
      "             Interval(1447336, 1453933, set(['sqc']))\n",
      ">:  Node<1934726, depth=4, balance=1>\n",
      "     Interval(1934726, 1940574, set(['sqc']))\n",
      "    <:  Node<1928395, depth=2, balance=0>\n",
      "         Interval(1928395, 1929310, set(['sqc']))\n",
      "        <:  Node<1924460, depth=1, balance=0>\n",
      "             Interval(1924460, 1925917, set(['sqc']))\n",
      "        >:  Node<1929436, depth=1, balance=0>\n",
      "             Interval(1929436, 1933452, set(['sqc']))\n",
      "    >:  Node<2766619, depth=3, balance=-1>\n",
      "         Interval(2766619, 2771697, set(['sqc']))\n",
      "        <:  Node<2707966, depth=2, balance=-1>\n",
      "             Interval(2707966, 2708581, set(['sqc']))\n",
      "            <:  Node<2636584, depth=1, balance=0>\n",
      "                 Interval(2636584, 2663024, set(['sqc']))\n",
      "        >:  Node<2801328, depth=1, balance=0>\n",
      "             Interval(2801328, 2803949, set(['sqc']))\n",
      "\n"
     ]
    },
    {
     "ename": "KeyError",
     "evalue": "Interval(1447336, 1453933, set(['sqc']))",
     "output_type": "error",
     "traceback": [
      "\u001b[0;31m---------------------------------------------------------------------------\u001b[0m",
      "\u001b[0;31mKeyError\u001b[0m                                  Traceback (most recent call last)",
      "\u001b[0;32m<ipython-input-117-347893869e0c>\u001b[0m in \u001b[0;36m<module>\u001b[0;34m()\u001b[0m\n\u001b[1;32m     10\u001b[0m         gtrees[g][f] = IntervalTree(Interval(iv[0], iv[1], set([f]))\n\u001b[1;32m     11\u001b[0m                                     for iv in files[f][g])\n\u001b[0;32m---> 12\u001b[0;31m         \u001b[0munaligned\u001b[0m\u001b[0;34m[\u001b[0m\u001b[0mg\u001b[0m\u001b[0;34m]\u001b[0m\u001b[0;34m[\u001b[0m\u001b[0mf\u001b[0m\u001b[0;34m]\u001b[0m\u001b[0;34m=\u001b[0m\u001b[0mgtrees\u001b[0m\u001b[0;34m[\u001b[0m\u001b[0mg\u001b[0m\u001b[0;34m]\u001b[0m\u001b[0;34m[\u001b[0m\u001b[0mf\u001b[0m\u001b[0;34m]\u001b[0m\u001b[0;34m.\u001b[0m\u001b[0mchop\u001b[0m\u001b[0;34m(\u001b[0m\u001b[0mgtrees\u001b[0m\u001b[0;34m[\u001b[0m\u001b[0mg\u001b[0m\u001b[0;34m]\u001b[0m\u001b[0;34m[\u001b[0m\u001b[0mf\u001b[0m\u001b[0;34m]\u001b[0m\u001b[0;34m.\u001b[0m\u001b[0mbegin\u001b[0m\u001b[0;34m(\u001b[0m\u001b[0;34m)\u001b[0m\u001b[0;34m,\u001b[0m \u001b[0mgtrees\u001b[0m\u001b[0;34m[\u001b[0m\u001b[0mg\u001b[0m\u001b[0;34m]\u001b[0m\u001b[0;34m[\u001b[0m\u001b[0mf\u001b[0m\u001b[0;34m]\u001b[0m\u001b[0;34m.\u001b[0m\u001b[0mend\u001b[0m\u001b[0;34m(\u001b[0m\u001b[0;34m)\u001b[0m\u001b[0;34m)\u001b[0m\u001b[0;34m\u001b[0m\u001b[0m\n\u001b[0m\u001b[1;32m     13\u001b[0m         \u001b[0;32mprint\u001b[0m\u001b[0;34m(\u001b[0m\u001b[0munaligned\u001b[0m\u001b[0;34m[\u001b[0m\u001b[0mg\u001b[0m\u001b[0;34m]\u001b[0m\u001b[0;34m[\u001b[0m\u001b[0mf\u001b[0m\u001b[0;34m]\u001b[0m\u001b[0;34m)\u001b[0m\u001b[0;34m\u001b[0m\u001b[0m\n\u001b[1;32m     14\u001b[0m \u001b[0;32mprint\u001b[0m\u001b[0;34m(\u001b[0m\u001b[0;34m'done'\u001b[0m\u001b[0;34m)\u001b[0m\u001b[0;34m\u001b[0m\u001b[0m\n",
      "\u001b[0;32m/Library/Python/2.7/site-packages/intervaltree/intervaltree.pyc\u001b[0m in \u001b[0;36mchop\u001b[0;34m(self, begin, end, datafunc)\u001b[0m\n\u001b[1;32m    506\u001b[0m                 \u001b[0minsertions\u001b[0m\u001b[0;34m.\u001b[0m\u001b[0madd\u001b[0m\u001b[0;34m(\u001b[0m\u001b[0mInterval\u001b[0m\u001b[0;34m(\u001b[0m\u001b[0mend\u001b[0m\u001b[0;34m,\u001b[0m \u001b[0miv\u001b[0m\u001b[0;34m.\u001b[0m\u001b[0mend\u001b[0m\u001b[0;34m,\u001b[0m \u001b[0miv\u001b[0m\u001b[0;34m.\u001b[0m\u001b[0mdata\u001b[0m\u001b[0;34m)\u001b[0m\u001b[0;34m)\u001b[0m\u001b[0;34m\u001b[0m\u001b[0m\n\u001b[1;32m    507\u001b[0m \u001b[0;34m\u001b[0m\u001b[0m\n\u001b[0;32m--> 508\u001b[0;31m         \u001b[0mself\u001b[0m\u001b[0;34m.\u001b[0m\u001b[0mremove_envelop\u001b[0m\u001b[0;34m(\u001b[0m\u001b[0mbegin\u001b[0m\u001b[0;34m,\u001b[0m \u001b[0mend\u001b[0m\u001b[0;34m)\u001b[0m\u001b[0;34m\u001b[0m\u001b[0m\n\u001b[0m\u001b[1;32m    509\u001b[0m         \u001b[0mself\u001b[0m\u001b[0;34m.\u001b[0m\u001b[0mdifference_update\u001b[0m\u001b[0;34m(\u001b[0m\u001b[0mbegin_hits\u001b[0m\u001b[0;34m)\u001b[0m\u001b[0;34m\u001b[0m\u001b[0m\n\u001b[1;32m    510\u001b[0m         \u001b[0mself\u001b[0m\u001b[0;34m.\u001b[0m\u001b[0mdifference_update\u001b[0m\u001b[0;34m(\u001b[0m\u001b[0mend_hits\u001b[0m\u001b[0;34m)\u001b[0m\u001b[0;34m\u001b[0m\u001b[0m\n",
      "\u001b[0;32m/Library/Python/2.7/site-packages/intervaltree/intervaltree.pyc\u001b[0m in \u001b[0;36mremove_envelop\u001b[0;34m(self, begin, end)\u001b[0m\n\u001b[1;32m    484\u001b[0m         \u001b[0mhitlist\u001b[0m \u001b[0;34m=\u001b[0m \u001b[0mself\u001b[0m\u001b[0;34m.\u001b[0m\u001b[0msearch\u001b[0m\u001b[0;34m(\u001b[0m\u001b[0mbegin\u001b[0m\u001b[0;34m,\u001b[0m \u001b[0mend\u001b[0m\u001b[0;34m,\u001b[0m \u001b[0mstrict\u001b[0m\u001b[0;34m=\u001b[0m\u001b[0mTrue\u001b[0m\u001b[0;34m)\u001b[0m\u001b[0;34m\u001b[0m\u001b[0m\n\u001b[1;32m    485\u001b[0m         \u001b[0;32mfor\u001b[0m \u001b[0miv\u001b[0m \u001b[0;32min\u001b[0m \u001b[0mhitlist\u001b[0m\u001b[0;34m:\u001b[0m\u001b[0;34m\u001b[0m\u001b[0m\n\u001b[0;32m--> 486\u001b[0;31m             \u001b[0mself\u001b[0m\u001b[0;34m.\u001b[0m\u001b[0mremove\u001b[0m\u001b[0;34m(\u001b[0m\u001b[0miv\u001b[0m\u001b[0;34m)\u001b[0m\u001b[0;34m\u001b[0m\u001b[0m\n\u001b[0m\u001b[1;32m    487\u001b[0m \u001b[0;34m\u001b[0m\u001b[0m\n\u001b[1;32m    488\u001b[0m     \u001b[0;32mdef\u001b[0m \u001b[0mchop\u001b[0m\u001b[0;34m(\u001b[0m\u001b[0mself\u001b[0m\u001b[0;34m,\u001b[0m \u001b[0mbegin\u001b[0m\u001b[0;34m,\u001b[0m \u001b[0mend\u001b[0m\u001b[0;34m,\u001b[0m \u001b[0mdatafunc\u001b[0m\u001b[0;34m=\u001b[0m\u001b[0mNone\u001b[0m\u001b[0;34m)\u001b[0m\u001b[0;34m:\u001b[0m\u001b[0;34m\u001b[0m\u001b[0m\n",
      "\u001b[0;32m/Library/Python/2.7/site-packages/intervaltree/intervaltree.pyc\u001b[0m in \u001b[0;36mremove\u001b[0;34m(self, interval)\u001b[0m\n\u001b[1;32m    359\u001b[0m             \u001b[0;31m#print(self.all_intervals)\u001b[0m\u001b[0;34m\u001b[0m\u001b[0;34m\u001b[0m\u001b[0m\n\u001b[1;32m    360\u001b[0m             \u001b[0;32mraise\u001b[0m \u001b[0mValueError\u001b[0m\u001b[0;34m\u001b[0m\u001b[0m\n\u001b[0;32m--> 361\u001b[0;31m         \u001b[0mself\u001b[0m\u001b[0;34m.\u001b[0m\u001b[0mtop_node\u001b[0m \u001b[0;34m=\u001b[0m \u001b[0mself\u001b[0m\u001b[0;34m.\u001b[0m\u001b[0mtop_node\u001b[0m\u001b[0;34m.\u001b[0m\u001b[0mremove\u001b[0m\u001b[0;34m(\u001b[0m\u001b[0minterval\u001b[0m\u001b[0;34m)\u001b[0m\u001b[0;34m\u001b[0m\u001b[0m\n\u001b[0m\u001b[1;32m    362\u001b[0m         \u001b[0mself\u001b[0m\u001b[0;34m.\u001b[0m\u001b[0mall_intervals\u001b[0m\u001b[0;34m.\u001b[0m\u001b[0mremove\u001b[0m\u001b[0;34m(\u001b[0m\u001b[0minterval\u001b[0m\u001b[0;34m)\u001b[0m\u001b[0;34m\u001b[0m\u001b[0m\n\u001b[1;32m    363\u001b[0m         \u001b[0mself\u001b[0m\u001b[0;34m.\u001b[0m\u001b[0m_remove_boundaries\u001b[0m\u001b[0;34m(\u001b[0m\u001b[0minterval\u001b[0m\u001b[0;34m)\u001b[0m\u001b[0;34m\u001b[0m\u001b[0m\n",
      "\u001b[0;32m/Library/Python/2.7/site-packages/intervaltree/node.pyc\u001b[0m in \u001b[0;36mremove\u001b[0;34m(self, interval)\u001b[0m\n\u001b[1;32m    209\u001b[0m         \u001b[0;31m# making it true\u001b[0m\u001b[0;34m\u001b[0m\u001b[0;34m\u001b[0m\u001b[0m\n\u001b[1;32m    210\u001b[0m         \u001b[0mdone\u001b[0m \u001b[0;34m=\u001b[0m \u001b[0;34m[\u001b[0m\u001b[0;34m]\u001b[0m\u001b[0;34m\u001b[0m\u001b[0m\n\u001b[0;32m--> 211\u001b[0;31m         \u001b[0;32mreturn\u001b[0m \u001b[0mself\u001b[0m\u001b[0;34m.\u001b[0m\u001b[0mremove_interval_helper\u001b[0m\u001b[0;34m(\u001b[0m\u001b[0minterval\u001b[0m\u001b[0;34m,\u001b[0m \u001b[0mdone\u001b[0m\u001b[0;34m,\u001b[0m \u001b[0mshould_raise_error\u001b[0m\u001b[0;34m=\u001b[0m\u001b[0mTrue\u001b[0m\u001b[0;34m)\u001b[0m\u001b[0;34m\u001b[0m\u001b[0m\n\u001b[0m\u001b[1;32m    212\u001b[0m \u001b[0;34m\u001b[0m\u001b[0m\n\u001b[1;32m    213\u001b[0m     \u001b[0;32mdef\u001b[0m \u001b[0mdiscard\u001b[0m\u001b[0;34m(\u001b[0m\u001b[0mself\u001b[0m\u001b[0;34m,\u001b[0m \u001b[0minterval\u001b[0m\u001b[0;34m)\u001b[0m\u001b[0;34m:\u001b[0m\u001b[0;34m\u001b[0m\u001b[0m\n",
      "\u001b[0;32m/Library/Python/2.7/site-packages/intervaltree/node.pyc\u001b[0m in \u001b[0;36mremove_interval_helper\u001b[0;34m(self, interval, done, should_raise_error)\u001b[0m\n\u001b[1;32m    246\u001b[0m             \u001b[0;32mexcept\u001b[0m\u001b[0;34m:\u001b[0m\u001b[0;34m\u001b[0m\u001b[0m\n\u001b[1;32m    247\u001b[0m                 \u001b[0mself\u001b[0m\u001b[0;34m.\u001b[0m\u001b[0mprint_structure\u001b[0m\u001b[0;34m(\u001b[0m\u001b[0;34m)\u001b[0m\u001b[0;34m\u001b[0m\u001b[0m\n\u001b[0;32m--> 248\u001b[0;31m                 \u001b[0;32mraise\u001b[0m \u001b[0mKeyError\u001b[0m\u001b[0;34m(\u001b[0m\u001b[0minterval\u001b[0m\u001b[0;34m)\u001b[0m\u001b[0;34m\u001b[0m\u001b[0m\n\u001b[0m\u001b[1;32m    249\u001b[0m             \u001b[0;32mif\u001b[0m \u001b[0mself\u001b[0m\u001b[0;34m.\u001b[0m\u001b[0ms_center\u001b[0m\u001b[0;34m:\u001b[0m     \u001b[0;31m# keep this node\u001b[0m\u001b[0;34m\u001b[0m\u001b[0m\n\u001b[1;32m    250\u001b[0m                 \u001b[0mdone\u001b[0m\u001b[0;34m.\u001b[0m\u001b[0mappend\u001b[0m\u001b[0;34m(\u001b[0m\u001b[0;36m1\u001b[0m\u001b[0;34m)\u001b[0m    \u001b[0;31m# no rebalancing necessary\u001b[0m\u001b[0;34m\u001b[0m\u001b[0m\n",
      "\u001b[0;31mKeyError\u001b[0m: Interval(1447336, 1453933, set(['sqc']))"
     ]
    }
   ],
   "source": [
    "gtrees = defaultdict(dict)\n",
    "unaligned = defaultdict(dict)\n",
    "#unaligned_regions = defaultdict(dict)\n",
    "genome_size = 10000 #2056037\n",
    "#unaligned = IntervalTree()\n",
    "all_genes = set()\n",
    "for f in files:\n",
    "    for g in files[f]:\n",
    "        all_genes.add(g)\n",
    "        gtrees[g][f] = IntervalTree(Interval(iv[0], iv[1], set([f]))\n",
    "                                    for iv in files[f][g])\n",
    "        unaligned[g][f]=gtrees[g][f].chop(gtrees[g][f].begin(), gtrees[g][f].end()) \n",
    "        print(unaligned[g][f])\n",
    "print('done')   "
   ]
  },
  {
   "cell_type": "code",
   "execution_count": 119,
   "metadata": {
    "collapsed": false
   },
   "outputs": [
    {
     "name": "stdout",
     "output_type": "stream",
     "text": [
      "done\n"
     ]
    }
   ],
   "source": [
    "overlap_trees = {}\n",
    "for gene in all_genes:\n",
    "    overlap_trees[gene] = overlap_all(list(unaligned[gene].values())) #just getting the overlaps of the aligned  chopped reads\n",
    "    if overlap_trees[gene]:\n",
    "        print('@', gene, end=\": \\n \")\n",
    "        print(overlap_trees[gene]) \n",
    "print('done')"
   ]
  },
  {
   "cell_type": "code",
   "execution_count": null,
   "metadata": {
    "collapsed": false
   },
   "outputs": [],
   "source": [
    "print(overlap_trees['Desulfovibrio_vulgaris_DP4'].begin())\n",
    "print(overlap_trees['Desulfovibrio_vulgaris_DP4'].end())\n",
    "print ('done')"
   ]
  },
  {
   "cell_type": "code",
   "execution_count": null,
   "metadata": {
    "collapsed": false,
    "scrolled": true
   },
   "outputs": [],
   "source": [
    "cutoff =10\n",
    "out =open('uncovered','w+')\n",
    "overlap_trees = {}\n",
    "for gene in all_genes:\n",
    "    overlap_trees[gene] = overlap_all(list(gtrees[gene].values()))\n",
    "    if overlap_trees[gene]:\n",
    "        print('@',gene,\":\",overlap_trees[gene].begin( ),\",\",overlap_trees[gene].end(), len(overlap_trees[gene])) \n",
    "        if len(overlap_trees[gene]) >cutoff:\n",
    "                for i in overlap_trees[gene]:\n",
    "                        print(gene,',',i,',',file=out)\n",
    "                    \n",
    "print ('done')       "
   ]
  },
  {
   "cell_type": "code",
   "execution_count": null,
   "metadata": {
    "collapsed": false
   },
   "outputs": [],
   "source": [
    "#parse case files\n",
    "gdict=defaultdict(list)\n",
    "input=open('uncovered','r')\n",
    "for line in input:\n",
    "        line=line.split(',')\n",
    "        #print(line)\n",
    "        gene=line[0]\n",
    "        x=line[1].split('(')\n",
    "        x=x[1]\n",
    "        y=line[2]\n",
    "        #print(x,\"-\",y)\n",
    "        gdict[line[0]].append(x)\n",
    "        gdict[line[0]].append(y)\n",
    "\n",
    "\n",
    "for g in gdict.keys(): \n",
    "         i=1\n",
    "         l=len(gdict[g])\n",
    "         min =20700000\n",
    "         max =-1\n",
    "         sum=0\n",
    "         while(i <l-1) :\n",
    "                gap=abs( int(gdict[g][i+1]) -int(gdict[g][i]) )\n",
    "                sum+=gap\n",
    "                if min >gap: \n",
    "                        min=gap\n",
    "                if max <gap:\n",
    "                        max=gap\n",
    "                i=i+2\n",
    "         print(g,\"has \",l/2,\"misassemblies with min/max/average gaps:\",str(min), \"/\",str(max),\"/\",(sum/l))"
   ]
  },
  {
   "cell_type": "code",
   "execution_count": null,
   "metadata": {
    "collapsed": true
   },
   "outputs": [],
   "source": []
  }
 ],
 "metadata": {
  "kernelspec": {
   "display_name": "Python 2",
   "language": "python",
   "name": "python2"
  },
  "language_info": {
   "codemirror_mode": {
    "name": "ipython",
    "version": 2
   },
   "file_extension": ".py",
   "mimetype": "text/x-python",
   "name": "python",
   "nbconvert_exporter": "python",
   "pygments_lexer": "ipython2",
   "version": "2.7.10"
  }
 },
 "nbformat": 4,
 "nbformat_minor": 0
}
