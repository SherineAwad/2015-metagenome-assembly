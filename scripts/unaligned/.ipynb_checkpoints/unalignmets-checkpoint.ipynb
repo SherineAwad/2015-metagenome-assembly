{
 "cells": [
  {
   "cell_type": "code",
   "execution_count": null,
   "metadata": {
    "collapsed": true
   },
   "outputs": [],
   "source": [
    "from __future__ import print_function\n",
    "from collections import defaultdict\n",
    "import sys\n",
    "import array from numpy as np"
   ]
  },
  {
   "cell_type": "code",
   "execution_count": 39,
   "metadata": {
    "collapsed": true
   },
   "outputs": [],
   "source": [
    "all_genes = set()\n",
    "genes = defaultdict(list)\n",
    "#positions =defaultdict(list)\n",
    "pos = defaultdict(lambda: defaultdict(list))"
   ]
  },
  {
   "cell_type": "code",
   "execution_count": 33,
   "metadata": {
    "collapsed": false
   },
   "outputs": [
    {
     "data": {
      "text/plain": [
       "\"\\nfor f in ('vqc', 'iqc', 'sqc', 'mqc'):\\n    for g in range(20):\\n         for i in range(206):\\n            pos[f][g].append(i)\\nprint('done') \\n\""
      ]
     },
     "execution_count": 33,
     "metadata": {},
     "output_type": "execute_result"
    }
   ],
   "source": [
    "\"\"\"\n",
    "for f in ('vqc', 'iqc', 'sqc', 'mqc'):\n",
    "    for g in range(20):\n",
    "         for i in range(206):\n",
    "            pos[f][g].append(i)\n",
    "print('done') \n",
    "\"\"\"    "
   ]
  },
  {
   "cell_type": "code",
   "execution_count": null,
   "metadata": {
    "collapsed": false
   },
   "outputs": [],
   "source": [
    "for f in ('vqc', 'iqc', 'sqc', 'mqc'):\n",
    "    for line in open(f): \n",
    "            x = line.rstrip().split(' ')\n",
    "            if  \"Real\" in  str(x[0]):\n",
    "                mini =min(int(x[3]), int(x[4]))\n",
    "                maxi =max(int(x[3]), int(x[4]))\n",
    "                for i in range(mini,maxi ):\n",
    "                    pos[f][str(x[14])].append(i)\n",
    "                   # pos[f][x[14]].append(maxi)\n",
    "                all_genes.add(str(x[14])\n",
    "print ('done')"
   ]
  },
  {
   "cell_type": "code",
   "execution_count": null,
   "metadata": {
    "collapsed": false
   },
   "outputs": [],
   "source": [
    "for f in ('vqc','iqc','sqc','mqc'):\n",
    "  for g in all_genes:\n",
    "        j=0\n",
    "        print(f,g,\":\")\n",
    "        for i in range (0,2):#000000):\n",
    "             if i not in pos[f][g]: \n",
    "                   sys.stdout.write(i)\n",
    "print ('done')"
   ]
  },
  {
   "cell_type": "code",
   "execution_count": null,
   "metadata": {
    "collapsed": false
   },
   "outputs": [],
   "source": [
    "positions=[]\n",
    "for i in range(20):\n",
    "        positions.append(i)\n",
    "        print(positions[i])\n",
    "print('done')"
   ]
  },
  {
   "cell_type": "code",
   "execution_count": null,
   "metadata": {
    "collapsed": true
   },
   "outputs": [],
   "source": []
  },
  {
   "cell_type": "code",
   "execution_count": null,
   "metadata": {
    "collapsed": true
   },
   "outputs": [],
   "source": []
  },
  {
   "cell_type": "code",
   "execution_count": null,
   "metadata": {
    "collapsed": true
   },
   "outputs": [],
   "source": []
  }
 ],
 "metadata": {
  "kernelspec": {
   "display_name": "Python 2",
   "language": "python",
   "name": "python2"
  },
  "language_info": {
   "codemirror_mode": {
    "name": "ipython",
    "version": 2
   },
   "file_extension": ".py",
   "mimetype": "text/x-python",
   "name": "python",
   "nbconvert_exporter": "python",
   "pygments_lexer": "ipython2",
   "version": "2.7.10"
  }
 },
 "nbformat": 4,
 "nbformat_minor": 0
}
