{
 "cells": [
  {
   "cell_type": "code",
   "execution_count": 51,
   "metadata": {
    "collapsed": false
   },
   "outputs": [],
   "source": [
    "from intervaltree import IntervalTree, Interval\n",
    "from collections import defaultdict"
   ]
  },
  {
   "cell_type": "code",
   "execution_count": 52,
   "metadata": {
    "collapsed": true
   },
   "outputs": [],
   "source": [
    "def overlap_intervals(self, other):\n",
    "    splits = (self | other)\n",
    "    splits.split_overlaps()\n",
    "    self_int_other = IntervalTree(filter(lambda r: self.overlaps(r) and other.overlaps(r), splits))\n",
    "    return self_int_other\n",
    "\n",
    "\n",
    "def overlap_all(trees):\n",
    "    if len(trees) in (0, 1):\n",
    "        return None\n",
    "\n",
    "    overlap = overlap_intervals(trees[0], trees[1])\n",
    "    for t in trees[2:]:\n",
    "        overlap = overlap_intervals(overlap, t)\n",
    "    overlap.merge_overlaps(data_reducer)\n",
    "\n",
    "    return overlap\n",
    "\n",
    "\n",
    "def data_reducer(current_data, new_data):\n",
    "    return current_data | new_data"
   ]
  },
  {
   "cell_type": "code",
   "execution_count": 53,
   "metadata": {
    "collapsed": false
   },
   "outputs": [],
   "source": [
    "gtrees = defaultdict(dict)\n",
    "all_genes = set()\n",
    "files = defaultdict(dict)"
   ]
  },
  {
   "cell_type": "code",
   "execution_count": 54,
   "metadata": {
    "collapsed": false
   },
   "outputs": [],
   "source": [
    "for line in open('vqc'): \n",
    "        x = line.split(' ')\n",
    "        if x[2] != 'Extensive':\n",
    "                    files['vqc']={}\n",
    "                    files['vqc'][x[14]]=[(x[3], x[4])]\n",
    "\n",
    "for line in open('iqc'): \n",
    "        x = line.split(' ')\n",
    "        if x[2] != 'Extensive':\n",
    "                    files['iqc']={}\n",
    "                    files['iqc'][x[14]]=[(x[3], x[4])]\n",
    "                    \n",
    "for line in open('sqc'): \n",
    "        x = line.split(' ')\n",
    "        if x[2] != 'Extensive':\n",
    "                    files['sqc']={}\n",
    "                    files['sqc'][x[14]]=[(x[3], x[4])]\n",
    "                    \n",
    "for line in open('mqc'): \n",
    "        x = line.split(' ')\n",
    "        if x[2] != 'Extensive':\n",
    "                    files['mqc']={}\n",
    "                    files['mqc'][x[14]]=[(x[3], x[4])]"
   ]
  },
  {
   "cell_type": "code",
   "execution_count": 55,
   "metadata": {
    "collapsed": false
   },
   "outputs": [],
   "source": [
    "gtrees = defaultdict(dict)\n",
    "all_genes = set()\n",
    "for f in files:\n",
    "    #print f\n",
    "    for g in files[f]:\n",
    "        #print g\n",
    "        all_genes.add(g)\n",
    "        gtrees[g][f] = IntervalTree(Interval(iv[0], iv[1], set([f]))\n",
    "                                    for iv in files[f][g])"
   ]
  },
  {
   "cell_type": "code",
   "execution_count": 56,
   "metadata": {
    "collapsed": false
   },
   "outputs": [
    {
     "data": {
      "text/plain": [
       "{'Bordetella_bronchiseptica_strain_RB50',\n",
       " 'Desulfovibrio_vulgaris_DP4',\n",
       " 'Herpetosiphon_aurantiacus_ATCC_23779',\n",
       " 'Shewanella_baltica_OS185'}"
      ]
     },
     "execution_count": 56,
     "metadata": {},
     "output_type": "execute_result"
    }
   ],
   "source": [
    "all_genes"
   ]
  },
  {
   "cell_type": "code",
   "execution_count": 57,
   "metadata": {
    "collapsed": false
   },
   "outputs": [
    {
     "name": "stdout",
     "output_type": "stream",
     "text": [
      "Bordetella_bronchiseptica_strain_RB50 :\n",
      "None\n",
      "Herpetosiphon_aurantiacus_ATCC_23779 :\n",
      "None\n",
      "Desulfovibrio_vulgaris_DP4 :\n",
      "None\n",
      "Shewanella_baltica_OS185 :\n",
      "None\n"
     ]
    }
   ],
   "source": [
    "for gene in all_genes:\n",
    "    #print(gene, end=\": \")\n",
    "    print gene, ':'\n",
    "    print(overlap_all(list(gtrees[gene].values())))"
   ]
  },
  {
   "cell_type": "code",
   "execution_count": null,
   "metadata": {
    "collapsed": true
   },
   "outputs": [],
   "source": []
  }
 ],
 "metadata": {
  "kernelspec": {
   "display_name": "Python 2",
   "language": "python",
   "name": "python2"
  },
  "language_info": {
   "codemirror_mode": {
    "name": "ipython",
    "version": 2
   },
   "file_extension": ".py",
   "mimetype": "text/x-python",
   "name": "python",
   "nbconvert_exporter": "python",
   "pygments_lexer": "ipython2",
   "version": "2.7.10"
  }
 },
 "nbformat": 4,
 "nbformat_minor": 0
}
