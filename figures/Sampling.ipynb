{
 "cells": [
  {
   "cell_type": "code",
   "execution_count": 1,
   "metadata": {
    "collapsed": false
   },
   "outputs": [],
   "source": [
    "import matplotlib\n",
    "import numpy as np\n",
    "import matplotlib.pyplot as plt\n",
    "import matplotlib.lines as mlines\n",
    "from matplotlib.pyplot import *"
   ]
  },
  {
   "cell_type": "code",
   "execution_count": 2,
   "metadata": {
    "collapsed": true,
    "scrolled": true
   },
   "outputs": [],
   "source": [
    "#x =[0, 5,12.5,25, 50, 75, 100]\n",
    "x =[0,25, 50, 75, 100]"
   ]
  },
  {
   "cell_type": "code",
   "execution_count": 3,
   "metadata": {
    "collapsed": false
   },
   "outputs": [],
   "source": [
    "#vqc_genome_fraction = [0,23.51,46.91,63.529,70.092,71.305,72.949]\n",
    "#iqc_genome_fraction = [0,26.82,57.07,76.980,84.664,86.902,90.969]\n",
    "#sqc_genome_fraction = [0,31.50,62.47,80.057,86.001,87.543,90.424]\n",
    "#mqc_genome_fraction = [0,25.1,55.66,76.192,83.874,86.001,90.358]\n",
    "\n",
    "\n",
    "vqc_genome_fraction = [0,63.529,70.092,71.305,72.949]\n",
    "iqc_genome_fraction = [0,76.980,84.664,86.902,90.969]\n",
    "sqc_genome_fraction = [0,80.057,86.001,87.543,90.424]\n",
    "mqc_genome_fraction = [0,76.192,83.874,86.001,90.358]\n",
    "\n",
    "vdigi_genome_fraction =[0,71.260,81.458,83.512,89.043] \n",
    "idigi_genome_fraction =[0,78.972,85.654,87.369,91.003]\n",
    "sdigi_genome_fraction =[0,78.243,84.348,85.839,90.173]\n",
    "mdigi_genome_fraction =[0,75.952,83.458,85.472,89.920]\n",
    "\n",
    "vpart_genome_fraction =[0,72.355,81.155,83.557,88.879] \n",
    "ipart_genome_fraction =[0,73.555,82.103,84.229,90.082]\n",
    "spart_genome_fraction =[0,73.209,81.547,83.564,89.272]\n",
    "mpart_genome_fraction =[0,70.394,79.896,82.384,88.769]\n",
    "\n",
    "\n",
    "\n"
   ]
  },
  {
   "cell_type": "code",
   "execution_count": 4,
   "metadata": {
    "collapsed": false
   },
   "outputs": [
    {
     "data": {
      "text/plain": [
       "<matplotlib.legend.Legend at 0x10c0e0150>"
      ]
     },
     "execution_count": 4,
     "metadata": {},
     "output_type": "execute_result"
    }
   ],
   "source": [
    "vqc= plt.plot(x,vqc_genome_fraction,color='r', linestyle='solid', linewidth=3, label ='Velvet QC', marker =\"*\")\n",
    "plt.legend(vqc, \"Velvet QC\", 'best')"
   ]
  },
  {
   "cell_type": "code",
   "execution_count": 5,
   "metadata": {
    "collapsed": false
   },
   "outputs": [
    {
     "data": {
      "text/plain": [
       "<matplotlib.legend.Legend at 0x10fd55410>"
      ]
     },
     "execution_count": 5,
     "metadata": {},
     "output_type": "execute_result"
    }
   ],
   "source": [
    "iqc= plt.plot(x,iqc_genome_fraction,color='b', linestyle='solid', linewidth=3, label ='IDBA QC', marker =\"*\")\n",
    "plt.legend(iqc, \"IDBA QC\", 'best')"
   ]
  },
  {
   "cell_type": "code",
   "execution_count": 6,
   "metadata": {
    "collapsed": false
   },
   "outputs": [
    {
     "data": {
      "text/plain": [
       "<matplotlib.legend.Legend at 0x10fd68e90>"
      ]
     },
     "execution_count": 6,
     "metadata": {},
     "output_type": "execute_result"
    }
   ],
   "source": [
    "sqc= plt.plot(x,sqc_genome_fraction,color='#FFA500', linestyle='solid', linewidth=3, label ='SPAdes QC', marker=\"*\")\n",
    "plt.legend(sqc, \"SPAdes qc\", 'best')"
   ]
  },
  {
   "cell_type": "code",
   "execution_count": 7,
   "metadata": {
    "collapsed": false
   },
   "outputs": [
    {
     "data": {
      "text/plain": [
       "<matplotlib.legend.Legend at 0x10fd7d390>"
      ]
     },
     "execution_count": 7,
     "metadata": {},
     "output_type": "execute_result"
    }
   ],
   "source": [
    "mqc= plt.plot(x,mqc_genome_fraction,color='g', linestyle='solid', linewidth=3, label ='Megahit QC', marker=\"*\")\n",
    "plt.legend(mqc, \"Megahit qc\", 'best')"
   ]
  },
  {
   "cell_type": "code",
   "execution_count": 8,
   "metadata": {
    "collapsed": false
   },
   "outputs": [
    {
     "data": {
      "text/plain": [
       "<matplotlib.legend.Legend at 0x10fd88490>"
      ]
     },
     "execution_count": 8,
     "metadata": {},
     "output_type": "execute_result"
    }
   ],
   "source": [
    "vdigi= plt.plot(x,vdigi_genome_fraction,color='r', linestyle='solid', linewidth=3, label ='Velvet Diginorm', marker=\"o\")\n",
    "plt.legend(vdigi, \"Velvet Diginorm\", 'lower right')"
   ]
  },
  {
   "cell_type": "code",
   "execution_count": 9,
   "metadata": {
    "collapsed": false
   },
   "outputs": [
    {
     "data": {
      "text/plain": [
       "<matplotlib.legend.Legend at 0x10fd93990>"
      ]
     },
     "execution_count": 9,
     "metadata": {},
     "output_type": "execute_result"
    }
   ],
   "source": [
    "idigi= plt.plot(x,idigi_genome_fraction,color='b', linestyle='solid', linewidth=3, label ='IDBA Diginorm', marker=\"o\")\n",
    "plt.legend(idigi, \"IDBA Diginorm\", 'lower right')"
   ]
  },
  {
   "cell_type": "code",
   "execution_count": 10,
   "metadata": {
    "collapsed": false
   },
   "outputs": [
    {
     "data": {
      "text/plain": [
       "<matplotlib.legend.Legend at 0x10fd9fa10>"
      ]
     },
     "execution_count": 10,
     "metadata": {},
     "output_type": "execute_result"
    }
   ],
   "source": [
    "sdigi= plt.plot(x,sdigi_genome_fraction,color='#FFA500', linestyle='solid', linewidth=3, label ='SPAdes Diginorm',marker=\"o\")\n",
    "plt.legend(idigi, \"SPAdes Diginorm\",  'lower right')"
   ]
  },
  {
   "cell_type": "code",
   "execution_count": 11,
   "metadata": {
    "collapsed": false
   },
   "outputs": [
    {
     "data": {
      "text/plain": [
       "<matplotlib.legend.Legend at 0x10fdabe50>"
      ]
     },
     "execution_count": 11,
     "metadata": {},
     "output_type": "execute_result"
    }
   ],
   "source": [
    "mdigi= plt.plot(x,mdigi_genome_fraction,color='g', linestyle='solid', linewidth=3, label ='Megahit Diginorm', marker=\"o\")\n",
    "plt.legend(mdigi, \"Megahit Diginorm\",  'lower right')"
   ]
  },
  {
   "cell_type": "code",
   "execution_count": 12,
   "metadata": {
    "collapsed": false
   },
   "outputs": [
    {
     "data": {
      "text/plain": [
       "<matplotlib.legend.Legend at 0x10fdb9ed0>"
      ]
     },
     "execution_count": 12,
     "metadata": {},
     "output_type": "execute_result"
    }
   ],
   "source": [
    "vpart= plt.plot(x,vpart_genome_fraction,color='r', linestyle='solid', linewidth=3, label ='Velvet Partition',marker=\"+\")\n",
    "plt.legend(idigi, \"Velvet Partition\",  'lower right')"
   ]
  },
  {
   "cell_type": "code",
   "execution_count": 13,
   "metadata": {
    "collapsed": false
   },
   "outputs": [
    {
     "data": {
      "text/plain": [
       "<matplotlib.legend.Legend at 0x10fdcd3d0>"
      ]
     },
     "execution_count": 13,
     "metadata": {},
     "output_type": "execute_result"
    }
   ],
   "source": [
    "ipart= plt.plot(x,ipart_genome_fraction,color='b', linestyle='solid', linewidth=3, label ='IDBA Partition',marker=\"+\")\n",
    "plt.legend(idigi, \"IDBA Partition\",  'lower right')"
   ]
  },
  {
   "cell_type": "code",
   "execution_count": 14,
   "metadata": {
    "collapsed": false
   },
   "outputs": [
    {
     "data": {
      "text/plain": [
       "<matplotlib.legend.Legend at 0x10fce97d0>"
      ]
     },
     "execution_count": 14,
     "metadata": {},
     "output_type": "execute_result"
    }
   ],
   "source": [
    "spart= plt.plot(x,spart_genome_fraction,color='#FFA500', linestyle='solid', linewidth=3, label ='SPAdes Partition',marker=\"+\")\n",
    "plt.legend(idigi, \"SPAdes Partition\",  'lower right')"
   ]
  },
  {
   "cell_type": "code",
   "execution_count": 15,
   "metadata": {
    "collapsed": false
   },
   "outputs": [
    {
     "data": {
      "text/plain": [
       "<matplotlib.legend.Legend at 0x10c0f7e10>"
      ]
     },
     "execution_count": 15,
     "metadata": {},
     "output_type": "execute_result"
    }
   ],
   "source": [
    "mpart= plt.plot(x,mpart_genome_fraction,color='g', linestyle='solid', linewidth=3, label ='Megahit Partition',marker=\"+\")\n",
    "plt.legend(idigi, \"Megahit Partition\", 'lower right')"
   ]
  },
  {
   "cell_type": "code",
   "execution_count": 16,
   "metadata": {
    "collapsed": false
   },
   "outputs": [],
   "source": [
    "plt.title('Assembly Quality using different Coverage')\n",
    "plt.xlabel('Percentage of Reads')\n",
    "plt.ylabel('Genome Fraction %')\n",
    "#legend()\n",
    "plt.legend(loc='center right', bbox_to_anchor=(0.97, 0.27),\n",
    "          fancybox=True, shadow=True, ncol=2)\n",
    "plt.show()"
   ]
  },
  {
   "cell_type": "code",
   "execution_count": null,
   "metadata": {
    "collapsed": true,
    "scrolled": true
   },
   "outputs": [],
   "source": []
  },
  {
   "cell_type": "code",
   "execution_count": null,
   "metadata": {
    "collapsed": true
   },
   "outputs": [],
   "source": []
  }
 ],
 "metadata": {
  "kernelspec": {
   "display_name": "Python 2",
   "language": "python",
   "name": "python2"
  },
  "language_info": {
   "codemirror_mode": {
    "name": "ipython",
    "version": 2
   },
   "file_extension": ".py",
   "mimetype": "text/x-python",
   "name": "python",
   "nbconvert_exporter": "python",
   "pygments_lexer": "ipython2",
   "version": "2.7.10"
  }
 },
 "nbformat": 4,
 "nbformat_minor": 0
}
