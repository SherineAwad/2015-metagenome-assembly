{
 "cells": [
  {
   "cell_type": "code",
   "execution_count": 35,
   "metadata": {
    "collapsed": false
   },
   "outputs": [],
   "source": [
    "#%pylab inline"
   ]
  },
  {
   "cell_type": "code",
   "execution_count": 36,
   "metadata": {
    "collapsed": true,
    "scrolled": true
   },
   "outputs": [],
   "source": [
    "import matplotlib\n",
    "import numpy as np\n",
    "import matplotlib.pyplot as plt\n",
    "import matplotlib.lines as mlines\n",
    "from matplotlib.pyplot import *\n",
    "from __future__ import print_function\n",
    "from collections import defaultdict"
   ]
  },
  {
   "cell_type": "code",
   "execution_count": 37,
   "metadata": {
    "collapsed": false,
    "scrolled": true
   },
   "outputs": [
    {
     "name": "stdout",
     "output_type": "stream",
     "text": [
      "done\n"
     ]
    }
   ],
   "source": [
    "refsize=205603715\n",
    "cov={}\n",
    "count={}\n",
    "cov=[0]*200000\n",
    "count=[0]*200000\n",
    "i =0 \n",
    "for line in open(\"../mircea.reads.coverage\"):\n",
    "           # if i ==0: \n",
    "              # i+=1\n",
    "               #continue\n",
    "            x = line.rstrip().split(' ')\n",
    "            cov[i]=float(x[0])\n",
    "            count[i]=float(x[1])/refsize\n",
    "            i +=1\n",
    "            if i >2000:\n",
    "                    break\n",
    "print ('done')"
   ]
  },
  {
   "cell_type": "code",
   "execution_count": 40,
   "metadata": {
    "collapsed": false
   },
   "outputs": [
    {
     "data": {
      "text/plain": [
       "array([    0.,    40.,    80.,   120.,   160.,   200.,   240.,   280.,\n",
       "         320.,   360.,   400.,   440.,   480.,   520.,   560.,   600.,\n",
       "         640.,   680.,   720.,   760.,   800.,   840.,   880.,   920.,\n",
       "         960.,  1000.,  1040.,  1080.,  1120.,  1160.,  1200.,  1240.,\n",
       "        1280.,  1320.,  1360.,  1400.,  1440.,  1480.,  1520.,  1560.,\n",
       "        1600.,  1640.,  1680.,  1720.,  1760.,  1800.,  1840.,  1880.,\n",
       "        1920.,  1960.,  2000.])"
      ]
     },
     "execution_count": 40,
     "metadata": {},
     "output_type": "execute_result"
    }
   ],
   "source": [
    "mu=np.mean(cov)\n",
    "sigma=np.std(cov)\n",
    "n, bins, patches = plt.hist(cov, 50, normed=1,\n",
    "                            histtype='step', cumulative=True)\n",
    "y = mlab.normpdf(bins, mu, sigma).cumsum()\n",
    "#y /= y[-1]\n",
    "bins\n"
   ]
  },
  {
   "cell_type": "code",
   "execution_count": 41,
   "metadata": {
    "collapsed": false
   },
   "outputs": [
    {
     "name": "stdout",
     "output_type": "stream",
     "text": [
      "done\n"
     ]
    }
   ],
   "source": [
    "cov_prof=plt.plot(bins, y, color='b', linestyle='solid', linewidth=4, label ='Coverage Profile')\n",
    "plt.hist(x, bins=bins, normed=1, histtype='step', cumulative=-1)\n",
    "\n",
    "#cov_prof= plt.plot(cov,count,color='b', linestyle='solid', linewidth=4, label ='Coverage Profile')\n",
    "\n",
    "plt.legend(cov_prof, \"Coverage Prof\", 'best')\n",
    "plt.axis(xmax=50)\n",
    "plt.ylim(0, 1.05)\n",
    "\n",
    "plt.title('Coverage profile for the reference genome')\n",
    "plt.xlabel('Coverage')\n",
    "plt.ylabel('Percentages of bases with that coverage')\n",
    "legend()\n",
    "plt.show()\n",
    "print('done')"
   ]
  },
  {
   "cell_type": "code",
   "execution_count": null,
   "metadata": {
    "collapsed": true,
    "scrolled": true
   },
   "outputs": [],
   "source": []
  }
 ],
 "metadata": {
  "kernelspec": {
   "display_name": "Python 2",
   "language": "python",
   "name": "python2"
  },
  "language_info": {
   "codemirror_mode": {
    "name": "ipython",
    "version": 2
   },
   "file_extension": ".py",
   "mimetype": "text/x-python",
   "name": "python",
   "nbconvert_exporter": "python",
   "pygments_lexer": "ipython2",
   "version": "2.7.10"
  }
 },
 "nbformat": 4,
 "nbformat_minor": 0
}
